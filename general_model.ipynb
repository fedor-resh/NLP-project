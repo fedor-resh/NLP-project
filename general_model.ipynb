{
 "cells": [
  {
   "cell_type": "code",
   "execution_count": 1,
   "outputs": [],
   "source": [
    "import pandas as pd\n",
    "import numpy as np"
   ],
   "metadata": {
    "collapsed": false,
    "ExecuteTime": {
     "end_time": "2023-11-02T06:10:22.227246200Z",
     "start_time": "2023-11-02T06:10:21.180106800Z"
    }
   },
   "id": "dea23c9c3a0b623a"
  },
  {
   "cell_type": "code",
   "execution_count": 2,
   "outputs": [],
   "source": [],
   "metadata": {
    "collapsed": false,
    "ExecuteTime": {
     "end_time": "2023-11-02T06:10:22.528846500Z",
     "start_time": "2023-11-02T06:10:22.227246200Z"
    }
   },
   "id": "initial_id"
  },
  {
   "cell_type": "code",
   "execution_count": 38,
   "outputs": [],
   "source": [
    "def prepare_Xy():\n",
    "    df = pd.read_csv('dataset.csv')\n",
    "    df = df.query('CLASS_ID != 9000')\n",
    "    X = df['uu_usl_name']\n",
    "    y = df['CLASS_ID']\n",
    "    return X,y\n",
    "def texts_to_cv(X):\n",
    "    from joblib import load\n",
    "    cv = load('simple_vectorized_cv.joblib')\n",
    "    sparce = cv.transform(X)\n",
    "    return pd.DataFrame.sparse.from_spmatrix(sparce)\n",
    "def normalize_texts(X):\n",
    "    from pymorphy2 import MorphAnalyzer\n",
    "    morph = MorphAnalyzer()\n",
    "    return X.apply(lambda x: ' '.join([morph.parse(word.lower().strip('(.,!?:;\\'\"«»—-–)'))[0].normal_form for word in x.split()]))\n",
    "def texts_to_vecs(X):\n",
    "    from gensim.models import KeyedVectors\n",
    "    model = KeyedVectors.load_word2vec_format('word_to_vec.bin', binary=True)\n",
    "    def get_average_vector(words):\n",
    "        vectors = []\n",
    "        for word in words:\n",
    "            if word in model:\n",
    "                vectors.append(model[word])\n",
    "            else:\n",
    "                vectors.append(np.array([0.0] * 99 + [1.0]))\n",
    "        return np.mean(vectors, axis=0)\n",
    "    pre_X = [get_average_vector(text.split()) for text in X]\n",
    "    return pd.DataFrame(pre_X, dtype=float)"
   ],
   "metadata": {
    "collapsed": false,
    "ExecuteTime": {
     "end_time": "2023-11-02T07:13:42.128860200Z",
     "start_time": "2023-11-02T07:13:42.111716700Z"
    }
   },
   "id": "3da1117e18ac19e5"
  },
  {
   "cell_type": "code",
   "execution_count": 24,
   "outputs": [],
   "source": [
    "X, y = prepare_Xy()"
   ],
   "metadata": {
    "collapsed": false,
    "ExecuteTime": {
     "end_time": "2023-11-02T07:07:14.566390Z",
     "start_time": "2023-11-02T07:07:14.268688400Z"
    }
   },
   "id": "b212f51282563242"
  },
  {
   "cell_type": "code",
   "execution_count": 25,
   "outputs": [],
   "source": [
    "normalized_X = normalize_texts(X)"
   ],
   "metadata": {
    "collapsed": false,
    "ExecuteTime": {
     "end_time": "2023-11-02T07:09:19.989078800Z",
     "start_time": "2023-11-02T07:07:15.086076700Z"
    }
   },
   "id": "bb902012ce19a2a5"
  },
  {
   "cell_type": "code",
   "execution_count": 28,
   "outputs": [],
   "source": [
    "vecs_X = texts_to_vecs(normalized_X)\n",
    "cv_X = texts_to_cv(normalized_X)"
   ],
   "metadata": {
    "collapsed": false,
    "ExecuteTime": {
     "end_time": "2023-11-02T07:11:07.208974600Z",
     "start_time": "2023-11-02T07:10:22.984534700Z"
    }
   },
   "id": "9dc5317c18d863ed"
  },
  {
   "cell_type": "code",
   "execution_count": 37,
   "outputs": [],
   "source": [
    "# scipy.sparse._csr.csr_matrix to df"
   ],
   "metadata": {
    "collapsed": false,
    "ExecuteTime": {
     "end_time": "2023-11-02T07:13:14.100729500Z",
     "start_time": "2023-11-02T07:13:13.095710300Z"
    }
   },
   "id": "70d86962b838a055"
  },
  {
   "cell_type": "code",
   "execution_count": null,
   "outputs": [],
   "source": [],
   "metadata": {
    "collapsed": false
   },
   "id": "99241fcf3841efa5"
  },
  {
   "cell_type": "code",
   "execution_count": 40,
   "outputs": [
    {
     "data": {
      "text/plain": "      0         1         2         3         4         5         6      \\\n0 -0.191372 -0.244398 -0.168261  0.232595  0.652055  0.053336  0.187999   \n1 -0.191372 -0.244398 -0.168261  0.232595  0.652055  0.053336  0.187999   \n2 -0.077774 -0.288235  0.035577  0.285684  0.560462 -0.148274  0.155463   \n3 -0.372827 -0.135439  0.156183 -0.010491  0.134077 -0.344258 -0.224037   \n4 -0.372827 -0.135439  0.156183 -0.010491  0.134077 -0.344258 -0.224037   \n\n      7         8         9      ...  17697  17698  17699  17700  17701  \\\n0 -0.201186 -0.614163  0.251317  ...      0      0      0      0      0   \n1 -0.201186 -0.614163  0.251317  ...      0      0      0      0      0   \n2 -0.072728 -0.568736  0.051853  ...      0      0      0      0      0   \n3  0.029237 -0.082438  0.520093  ...      0      0      0      0      0   \n4  0.029237 -0.082438  0.520093  ...      0      0      0      0      0   \n\n   17702  17703  17704  17705  17706  \n0      0      0      0      0      0  \n1      0      0      0      0      0  \n2      0      0      0      0      0  \n3      0      0      0      0      0  \n4      0      0      0      0      0  \n\n[5 rows x 17807 columns]",
      "text/html": "<div>\n<style scoped>\n    .dataframe tbody tr th:only-of-type {\n        vertical-align: middle;\n    }\n\n    .dataframe tbody tr th {\n        vertical-align: top;\n    }\n\n    .dataframe thead th {\n        text-align: right;\n    }\n</style>\n<table border=\"1\" class=\"dataframe\">\n  <thead>\n    <tr style=\"text-align: right;\">\n      <th></th>\n      <th>0</th>\n      <th>1</th>\n      <th>2</th>\n      <th>3</th>\n      <th>4</th>\n      <th>5</th>\n      <th>6</th>\n      <th>7</th>\n      <th>8</th>\n      <th>9</th>\n      <th>...</th>\n      <th>17697</th>\n      <th>17698</th>\n      <th>17699</th>\n      <th>17700</th>\n      <th>17701</th>\n      <th>17702</th>\n      <th>17703</th>\n      <th>17704</th>\n      <th>17705</th>\n      <th>17706</th>\n    </tr>\n  </thead>\n  <tbody>\n    <tr>\n      <th>0</th>\n      <td>-0.191372</td>\n      <td>-0.244398</td>\n      <td>-0.168261</td>\n      <td>0.232595</td>\n      <td>0.652055</td>\n      <td>0.053336</td>\n      <td>0.187999</td>\n      <td>-0.201186</td>\n      <td>-0.614163</td>\n      <td>0.251317</td>\n      <td>...</td>\n      <td>0</td>\n      <td>0</td>\n      <td>0</td>\n      <td>0</td>\n      <td>0</td>\n      <td>0</td>\n      <td>0</td>\n      <td>0</td>\n      <td>0</td>\n      <td>0</td>\n    </tr>\n    <tr>\n      <th>1</th>\n      <td>-0.191372</td>\n      <td>-0.244398</td>\n      <td>-0.168261</td>\n      <td>0.232595</td>\n      <td>0.652055</td>\n      <td>0.053336</td>\n      <td>0.187999</td>\n      <td>-0.201186</td>\n      <td>-0.614163</td>\n      <td>0.251317</td>\n      <td>...</td>\n      <td>0</td>\n      <td>0</td>\n      <td>0</td>\n      <td>0</td>\n      <td>0</td>\n      <td>0</td>\n      <td>0</td>\n      <td>0</td>\n      <td>0</td>\n      <td>0</td>\n    </tr>\n    <tr>\n      <th>2</th>\n      <td>-0.077774</td>\n      <td>-0.288235</td>\n      <td>0.035577</td>\n      <td>0.285684</td>\n      <td>0.560462</td>\n      <td>-0.148274</td>\n      <td>0.155463</td>\n      <td>-0.072728</td>\n      <td>-0.568736</td>\n      <td>0.051853</td>\n      <td>...</td>\n      <td>0</td>\n      <td>0</td>\n      <td>0</td>\n      <td>0</td>\n      <td>0</td>\n      <td>0</td>\n      <td>0</td>\n      <td>0</td>\n      <td>0</td>\n      <td>0</td>\n    </tr>\n    <tr>\n      <th>3</th>\n      <td>-0.372827</td>\n      <td>-0.135439</td>\n      <td>0.156183</td>\n      <td>-0.010491</td>\n      <td>0.134077</td>\n      <td>-0.344258</td>\n      <td>-0.224037</td>\n      <td>0.029237</td>\n      <td>-0.082438</td>\n      <td>0.520093</td>\n      <td>...</td>\n      <td>0</td>\n      <td>0</td>\n      <td>0</td>\n      <td>0</td>\n      <td>0</td>\n      <td>0</td>\n      <td>0</td>\n      <td>0</td>\n      <td>0</td>\n      <td>0</td>\n    </tr>\n    <tr>\n      <th>4</th>\n      <td>-0.372827</td>\n      <td>-0.135439</td>\n      <td>0.156183</td>\n      <td>-0.010491</td>\n      <td>0.134077</td>\n      <td>-0.344258</td>\n      <td>-0.224037</td>\n      <td>0.029237</td>\n      <td>-0.082438</td>\n      <td>0.520093</td>\n      <td>...</td>\n      <td>0</td>\n      <td>0</td>\n      <td>0</td>\n      <td>0</td>\n      <td>0</td>\n      <td>0</td>\n      <td>0</td>\n      <td>0</td>\n      <td>0</td>\n      <td>0</td>\n    </tr>\n  </tbody>\n</table>\n<p>5 rows × 17807 columns</p>\n</div>"
     },
     "execution_count": 40,
     "metadata": {},
     "output_type": "execute_result"
    }
   ],
   "source": [
    "total_X = pd.concat([vecs_X, cv_X], axis=1)"
   ],
   "metadata": {
    "collapsed": false,
    "ExecuteTime": {
     "end_time": "2023-11-02T07:14:13.860459500Z",
     "start_time": "2023-11-02T07:14:11.242730200Z"
    }
   },
   "id": "7279245170466bb8"
  },
  {
   "cell_type": "code",
   "execution_count": null,
   "outputs": [],
   "source": [
    "from sklearn.model_selection import train_test_split\n",
    "X_train, X_test, y_train, y_test = train_test_split(total_X, y, test_size=0.2, random_state=42)"
   ],
   "metadata": {
    "collapsed": false,
    "is_executing": true
   },
   "id": "aecc40accbe841f4"
  },
  {
   "cell_type": "code",
   "execution_count": null,
   "outputs": [],
   "source": [],
   "metadata": {
    "collapsed": false
   },
   "id": "e84fa53c27f15de"
  },
  {
   "cell_type": "code",
   "execution_count": null,
   "outputs": [],
   "source": [],
   "metadata": {
    "collapsed": false
   },
   "id": "44f5f616162ba284"
  }
 ],
 "metadata": {
  "kernelspec": {
   "display_name": "Python 3",
   "language": "python",
   "name": "python3"
  },
  "language_info": {
   "codemirror_mode": {
    "name": "ipython",
    "version": 2
   },
   "file_extension": ".py",
   "mimetype": "text/x-python",
   "name": "python",
   "nbconvert_exporter": "python",
   "pygments_lexer": "ipython2",
   "version": "2.7.6"
  }
 },
 "nbformat": 4,
 "nbformat_minor": 5
}
