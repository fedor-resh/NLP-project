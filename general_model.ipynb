{
 "cells": [
  {
   "cell_type": "code",
   "execution_count": 1,
   "outputs": [],
   "source": [
    "import pandas as pd\n",
    "import numpy as np"
   ],
   "metadata": {
    "collapsed": false,
    "ExecuteTime": {
     "end_time": "2023-12-04T15:36:04.854440600Z",
     "start_time": "2023-12-04T15:36:03.820334500Z"
    }
   },
   "id": "dea23c9c3a0b623a"
  },
  {
   "cell_type": "code",
   "execution_count": 1,
   "outputs": [],
   "source": [],
   "metadata": {
    "collapsed": false,
    "ExecuteTime": {
     "end_time": "2023-12-04T15:36:04.876439200Z",
     "start_time": "2023-12-04T15:36:04.853441800Z"
    }
   },
   "id": "initial_id"
  },
  {
   "cell_type": "code",
   "execution_count": 2,
   "outputs": [],
   "source": [
    "def prepare_Xy():\n",
    "    df = pd.read_csv('dataset.csv')\n",
    "    df = df.query('CLASS_ID != 9000')\n",
    "    X = df['uu_usl_name']\n",
    "    y = df['CLASS_ID']\n",
    "    return X,y\n",
    "def texts_to_cv(X):\n",
    "    from joblib import load\n",
    "    cv = load('simple_vectorized_cv.joblib')\n",
    "    sparce = cv.transform(X)\n",
    "    return pd.DataFrame.sparse.from_spmatrix(sparce)\n",
    "def normalize_texts(X):\n",
    "    from pymorphy2 import MorphAnalyzer\n",
    "    morph = MorphAnalyzer(lang='ru')\n",
    "    return X.apply(lambda x: ' '.join([morph.parse(word.lower().strip('(.,!?:;\\'\"«»—-–)'))[0].normal_form for word in x.split()]))\n",
    "def texts_to_vecs(X):\n",
    "    from gensim.models import KeyedVectors\n",
    "    model = KeyedVectors.load_word2vec_format('word_to_vec.bin', binary=True)\n",
    "    def get_average_vector(words):\n",
    "        vectors = []\n",
    "        for word in words:\n",
    "            if word in model:\n",
    "                vectors.append(model[word])\n",
    "            else:\n",
    "                vectors.append(np.array([0.0] * 99 + [1.0]))\n",
    "        return np.mean(vectors, axis=0)\n",
    "    pre_X = [get_average_vector(text.split()) for text in X]\n",
    "    return pd.DataFrame(pre_X, dtype=float)"
   ],
   "metadata": {
    "collapsed": false,
    "ExecuteTime": {
     "end_time": "2023-12-04T15:36:04.910978500Z",
     "start_time": "2023-12-04T15:36:04.873445Z"
    }
   },
   "id": "3da1117e18ac19e5"
  },
  {
   "cell_type": "code",
   "execution_count": 3,
   "outputs": [],
   "source": [
    "X, y = prepare_Xy()"
   ],
   "metadata": {
    "collapsed": false,
    "ExecuteTime": {
     "end_time": "2023-12-04T15:36:05.203965400Z",
     "start_time": "2023-12-04T15:36:04.902967800Z"
    }
   },
   "id": "b212f51282563242"
  },
  {
   "cell_type": "code",
   "execution_count": 4,
   "outputs": [],
   "source": [
    "normalized_X = normalize_texts(X)"
   ],
   "metadata": {
    "collapsed": false,
    "ExecuteTime": {
     "end_time": "2023-12-04T15:37:51.724099900Z",
     "start_time": "2023-12-04T15:36:05.213965800Z"
    }
   },
   "id": "bb902012ce19a2a5"
  },
  {
   "cell_type": "code",
   "execution_count": 5,
   "outputs": [],
   "source": [
    "vecs_X = texts_to_vecs(normalized_X)\n",
    "cv_X = texts_to_cv(normalized_X)"
   ],
   "metadata": {
    "collapsed": false,
    "ExecuteTime": {
     "end_time": "2023-12-04T15:38:24.849189100Z",
     "start_time": "2023-12-04T15:37:51.739702Z"
    }
   },
   "id": "9dc5317c18d863ed"
  },
  {
   "cell_type": "code",
   "execution_count": 5,
   "outputs": [],
   "source": [],
   "metadata": {
    "collapsed": false,
    "ExecuteTime": {
     "end_time": "2023-12-04T15:38:24.864728Z",
     "start_time": "2023-12-04T15:38:24.849189100Z"
    }
   },
   "id": "70d86962b838a055"
  },
  {
   "cell_type": "code",
   "execution_count": 5,
   "outputs": [],
   "source": [],
   "metadata": {
    "collapsed": false,
    "ExecuteTime": {
     "end_time": "2023-12-04T15:38:24.895975500Z",
     "start_time": "2023-12-04T15:38:24.864728Z"
    }
   },
   "id": "99241fcf3841efa5"
  },
  {
   "cell_type": "code",
   "execution_count": 5,
   "outputs": [],
   "source": [],
   "metadata": {
    "collapsed": false,
    "ExecuteTime": {
     "end_time": "2023-12-04T15:38:24.895975500Z",
     "start_time": "2023-12-04T15:38:24.880353600Z"
    }
   },
   "id": "7279245170466bb8"
  },
  {
   "cell_type": "code",
   "execution_count": 6,
   "outputs": [],
   "source": [
    "from sklearn.model_selection import train_test_split\n",
    "vecs_X_train, vecs_X_test, y_train, y_test = train_test_split(vecs_X, y, test_size=0.2, random_state=42)\n",
    "cv_X_train, cv_X_test, _, _ = train_test_split(cv_X, y, test_size=0.2, random_state=42)"
   ],
   "metadata": {
    "collapsed": false,
    "ExecuteTime": {
     "end_time": "2023-12-04T15:38:55.370583800Z",
     "start_time": "2023-12-04T15:38:24.895975500Z"
    }
   },
   "id": "aecc40accbe841f4"
  },
  {
   "cell_type": "code",
   "execution_count": 6,
   "outputs": [],
   "source": [],
   "metadata": {
    "collapsed": false,
    "ExecuteTime": {
     "end_time": "2023-12-04T15:38:55.386102900Z",
     "start_time": "2023-12-04T15:38:55.370583800Z"
    }
   },
   "id": "36c481f038445764"
  },
  {
   "cell_type": "code",
   "execution_count": 6,
   "outputs": [],
   "source": [],
   "metadata": {
    "collapsed": false,
    "ExecuteTime": {
     "end_time": "2023-12-04T15:38:55.433000200Z",
     "start_time": "2023-12-04T15:38:55.386102900Z"
    }
   },
   "id": "5cc086c77f283eaf"
  },
  {
   "cell_type": "code",
   "execution_count": 23,
   "outputs": [
    {
     "data": {
      "text/plain": "RandomForestClassifier(max_depth=200, min_samples_leaf=10, min_samples_split=10,\n                       n_estimators=20, n_jobs=-1, random_state=0)",
      "text/html": "<style>#sk-container-id-5 {color: black;}#sk-container-id-5 pre{padding: 0;}#sk-container-id-5 div.sk-toggleable {background-color: white;}#sk-container-id-5 label.sk-toggleable__label {cursor: pointer;display: block;width: 100%;margin-bottom: 0;padding: 0.3em;box-sizing: border-box;text-align: center;}#sk-container-id-5 label.sk-toggleable__label-arrow:before {content: \"▸\";float: left;margin-right: 0.25em;color: #696969;}#sk-container-id-5 label.sk-toggleable__label-arrow:hover:before {color: black;}#sk-container-id-5 div.sk-estimator:hover label.sk-toggleable__label-arrow:before {color: black;}#sk-container-id-5 div.sk-toggleable__content {max-height: 0;max-width: 0;overflow: hidden;text-align: left;background-color: #f0f8ff;}#sk-container-id-5 div.sk-toggleable__content pre {margin: 0.2em;color: black;border-radius: 0.25em;background-color: #f0f8ff;}#sk-container-id-5 input.sk-toggleable__control:checked~div.sk-toggleable__content {max-height: 200px;max-width: 100%;overflow: auto;}#sk-container-id-5 input.sk-toggleable__control:checked~label.sk-toggleable__label-arrow:before {content: \"▾\";}#sk-container-id-5 div.sk-estimator input.sk-toggleable__control:checked~label.sk-toggleable__label {background-color: #d4ebff;}#sk-container-id-5 div.sk-label input.sk-toggleable__control:checked~label.sk-toggleable__label {background-color: #d4ebff;}#sk-container-id-5 input.sk-hidden--visually {border: 0;clip: rect(1px 1px 1px 1px);clip: rect(1px, 1px, 1px, 1px);height: 1px;margin: -1px;overflow: hidden;padding: 0;position: absolute;width: 1px;}#sk-container-id-5 div.sk-estimator {font-family: monospace;background-color: #f0f8ff;border: 1px dotted black;border-radius: 0.25em;box-sizing: border-box;margin-bottom: 0.5em;}#sk-container-id-5 div.sk-estimator:hover {background-color: #d4ebff;}#sk-container-id-5 div.sk-parallel-item::after {content: \"\";width: 100%;border-bottom: 1px solid gray;flex-grow: 1;}#sk-container-id-5 div.sk-label:hover label.sk-toggleable__label {background-color: #d4ebff;}#sk-container-id-5 div.sk-serial::before {content: \"\";position: absolute;border-left: 1px solid gray;box-sizing: border-box;top: 0;bottom: 0;left: 50%;z-index: 0;}#sk-container-id-5 div.sk-serial {display: flex;flex-direction: column;align-items: center;background-color: white;padding-right: 0.2em;padding-left: 0.2em;position: relative;}#sk-container-id-5 div.sk-item {position: relative;z-index: 1;}#sk-container-id-5 div.sk-parallel {display: flex;align-items: stretch;justify-content: center;background-color: white;position: relative;}#sk-container-id-5 div.sk-item::before, #sk-container-id-5 div.sk-parallel-item::before {content: \"\";position: absolute;border-left: 1px solid gray;box-sizing: border-box;top: 0;bottom: 0;left: 50%;z-index: -1;}#sk-container-id-5 div.sk-parallel-item {display: flex;flex-direction: column;z-index: 1;position: relative;background-color: white;}#sk-container-id-5 div.sk-parallel-item:first-child::after {align-self: flex-end;width: 50%;}#sk-container-id-5 div.sk-parallel-item:last-child::after {align-self: flex-start;width: 50%;}#sk-container-id-5 div.sk-parallel-item:only-child::after {width: 0;}#sk-container-id-5 div.sk-dashed-wrapped {border: 1px dashed gray;margin: 0 0.4em 0.5em 0.4em;box-sizing: border-box;padding-bottom: 0.4em;background-color: white;}#sk-container-id-5 div.sk-label label {font-family: monospace;font-weight: bold;display: inline-block;line-height: 1.2em;}#sk-container-id-5 div.sk-label-container {text-align: center;}#sk-container-id-5 div.sk-container {/* jupyter's `normalize.less` sets `[hidden] { display: none; }` but bootstrap.min.css set `[hidden] { display: none !important; }` so we also need the `!important` here to be able to override the default hidden behavior on the sphinx rendered scikit-learn.org. See: https://github.com/scikit-learn/scikit-learn/issues/21755 */display: inline-block !important;position: relative;}#sk-container-id-5 div.sk-text-repr-fallback {display: none;}</style><div id=\"sk-container-id-5\" class=\"sk-top-container\"><div class=\"sk-text-repr-fallback\"><pre>RandomForestClassifier(max_depth=200, min_samples_leaf=10, min_samples_split=10,\n                       n_estimators=20, n_jobs=-1, random_state=0)</pre><b>In a Jupyter environment, please rerun this cell to show the HTML representation or trust the notebook. <br />On GitHub, the HTML representation is unable to render, please try loading this page with nbviewer.org.</b></div><div class=\"sk-container\" hidden><div class=\"sk-item\"><div class=\"sk-estimator sk-toggleable\"><input class=\"sk-toggleable__control sk-hidden--visually\" id=\"sk-estimator-id-5\" type=\"checkbox\" checked><label for=\"sk-estimator-id-5\" class=\"sk-toggleable__label sk-toggleable__label-arrow\">RandomForestClassifier</label><div class=\"sk-toggleable__content\"><pre>RandomForestClassifier(max_depth=200, min_samples_leaf=10, min_samples_split=10,\n                       n_estimators=20, n_jobs=-1, random_state=0)</pre></div></div></div></div></div>"
     },
     "execution_count": 23,
     "metadata": {},
     "output_type": "execute_result"
    }
   ],
   "source": [
    "from sklearn.ensemble import RandomForestClassifier\n",
    "vecs_clf = RandomForestClassifier(\n",
    "    n_estimators=20,\n",
    "    max_depth=200,\n",
    "    random_state=0,\n",
    "    n_jobs=-1,\n",
    "    min_samples_split=10,\n",
    "    min_samples_leaf=10,\n",
    ")\n",
    "\n",
    "vecs_clf.fit(vecs_X_train, y_train)"
   ],
   "metadata": {
    "collapsed": false,
    "ExecuteTime": {
     "end_time": "2023-12-04T15:51:34.316298100Z",
     "start_time": "2023-12-04T15:51:01.266288700Z"
    }
   },
   "id": "7567ce046256347d"
  },
  {
   "cell_type": "code",
   "execution_count": 24,
   "outputs": [
    {
     "name": "stderr",
     "output_type": "stream",
     "text": [
      "C:\\Users\\user\\PycharmProjects\\NLP\\venv\\lib\\site-packages\\sklearn\\linear_model\\_logistic.py:460: ConvergenceWarning: lbfgs failed to converge (status=1):\n",
      "STOP: TOTAL NO. of ITERATIONS REACHED LIMIT.\n",
      "\n",
      "Increase the number of iterations (max_iter) or scale the data as shown in:\n",
      "    https://scikit-learn.org/stable/modules/preprocessing.html\n",
      "Please also refer to the documentation for alternative solver options:\n",
      "    https://scikit-learn.org/stable/modules/linear_model.html#logistic-regression\n",
      "  n_iter_i = _check_optimize_result(\n"
     ]
    },
    {
     "data": {
      "text/plain": "LogisticRegression(random_state=42)",
      "text/html": "<style>#sk-container-id-6 {color: black;}#sk-container-id-6 pre{padding: 0;}#sk-container-id-6 div.sk-toggleable {background-color: white;}#sk-container-id-6 label.sk-toggleable__label {cursor: pointer;display: block;width: 100%;margin-bottom: 0;padding: 0.3em;box-sizing: border-box;text-align: center;}#sk-container-id-6 label.sk-toggleable__label-arrow:before {content: \"▸\";float: left;margin-right: 0.25em;color: #696969;}#sk-container-id-6 label.sk-toggleable__label-arrow:hover:before {color: black;}#sk-container-id-6 div.sk-estimator:hover label.sk-toggleable__label-arrow:before {color: black;}#sk-container-id-6 div.sk-toggleable__content {max-height: 0;max-width: 0;overflow: hidden;text-align: left;background-color: #f0f8ff;}#sk-container-id-6 div.sk-toggleable__content pre {margin: 0.2em;color: black;border-radius: 0.25em;background-color: #f0f8ff;}#sk-container-id-6 input.sk-toggleable__control:checked~div.sk-toggleable__content {max-height: 200px;max-width: 100%;overflow: auto;}#sk-container-id-6 input.sk-toggleable__control:checked~label.sk-toggleable__label-arrow:before {content: \"▾\";}#sk-container-id-6 div.sk-estimator input.sk-toggleable__control:checked~label.sk-toggleable__label {background-color: #d4ebff;}#sk-container-id-6 div.sk-label input.sk-toggleable__control:checked~label.sk-toggleable__label {background-color: #d4ebff;}#sk-container-id-6 input.sk-hidden--visually {border: 0;clip: rect(1px 1px 1px 1px);clip: rect(1px, 1px, 1px, 1px);height: 1px;margin: -1px;overflow: hidden;padding: 0;position: absolute;width: 1px;}#sk-container-id-6 div.sk-estimator {font-family: monospace;background-color: #f0f8ff;border: 1px dotted black;border-radius: 0.25em;box-sizing: border-box;margin-bottom: 0.5em;}#sk-container-id-6 div.sk-estimator:hover {background-color: #d4ebff;}#sk-container-id-6 div.sk-parallel-item::after {content: \"\";width: 100%;border-bottom: 1px solid gray;flex-grow: 1;}#sk-container-id-6 div.sk-label:hover label.sk-toggleable__label {background-color: #d4ebff;}#sk-container-id-6 div.sk-serial::before {content: \"\";position: absolute;border-left: 1px solid gray;box-sizing: border-box;top: 0;bottom: 0;left: 50%;z-index: 0;}#sk-container-id-6 div.sk-serial {display: flex;flex-direction: column;align-items: center;background-color: white;padding-right: 0.2em;padding-left: 0.2em;position: relative;}#sk-container-id-6 div.sk-item {position: relative;z-index: 1;}#sk-container-id-6 div.sk-parallel {display: flex;align-items: stretch;justify-content: center;background-color: white;position: relative;}#sk-container-id-6 div.sk-item::before, #sk-container-id-6 div.sk-parallel-item::before {content: \"\";position: absolute;border-left: 1px solid gray;box-sizing: border-box;top: 0;bottom: 0;left: 50%;z-index: -1;}#sk-container-id-6 div.sk-parallel-item {display: flex;flex-direction: column;z-index: 1;position: relative;background-color: white;}#sk-container-id-6 div.sk-parallel-item:first-child::after {align-self: flex-end;width: 50%;}#sk-container-id-6 div.sk-parallel-item:last-child::after {align-self: flex-start;width: 50%;}#sk-container-id-6 div.sk-parallel-item:only-child::after {width: 0;}#sk-container-id-6 div.sk-dashed-wrapped {border: 1px dashed gray;margin: 0 0.4em 0.5em 0.4em;box-sizing: border-box;padding-bottom: 0.4em;background-color: white;}#sk-container-id-6 div.sk-label label {font-family: monospace;font-weight: bold;display: inline-block;line-height: 1.2em;}#sk-container-id-6 div.sk-label-container {text-align: center;}#sk-container-id-6 div.sk-container {/* jupyter's `normalize.less` sets `[hidden] { display: none; }` but bootstrap.min.css set `[hidden] { display: none !important; }` so we also need the `!important` here to be able to override the default hidden behavior on the sphinx rendered scikit-learn.org. See: https://github.com/scikit-learn/scikit-learn/issues/21755 */display: inline-block !important;position: relative;}#sk-container-id-6 div.sk-text-repr-fallback {display: none;}</style><div id=\"sk-container-id-6\" class=\"sk-top-container\"><div class=\"sk-text-repr-fallback\"><pre>LogisticRegression(random_state=42)</pre><b>In a Jupyter environment, please rerun this cell to show the HTML representation or trust the notebook. <br />On GitHub, the HTML representation is unable to render, please try loading this page with nbviewer.org.</b></div><div class=\"sk-container\" hidden><div class=\"sk-item\"><div class=\"sk-estimator sk-toggleable\"><input class=\"sk-toggleable__control sk-hidden--visually\" id=\"sk-estimator-id-6\" type=\"checkbox\" checked><label for=\"sk-estimator-id-6\" class=\"sk-toggleable__label sk-toggleable__label-arrow\">LogisticRegression</label><div class=\"sk-toggleable__content\"><pre>LogisticRegression(random_state=42)</pre></div></div></div></div></div>"
     },
     "execution_count": 24,
     "metadata": {},
     "output_type": "execute_result"
    }
   ],
   "source": [
    "from sklearn.linear_model import LogisticRegression\n",
    "cv_clf = LogisticRegression(random_state=42)\n",
    "cv_clf.fit(cv_X_train, y_train)"
   ],
   "metadata": {
    "collapsed": false,
    "ExecuteTime": {
     "end_time": "2023-12-04T15:53:47.175046600Z",
     "start_time": "2023-12-04T15:51:34.316298100Z"
    }
   },
   "id": "c4c2747ca38d62be"
  },
  {
   "cell_type": "code",
   "execution_count": 25,
   "outputs": [],
   "source": [
    "from sklearn.metrics import classification_report, accuracy_score\n",
    "vecs_y_proba = vecs_clf.predict_proba(vecs_X_test)\n",
    "cv_y_proba = cv_clf.predict_proba(cv_X_test)"
   ],
   "metadata": {
    "collapsed": false,
    "ExecuteTime": {
     "end_time": "2023-12-04T15:53:48.232755700Z",
     "start_time": "2023-12-04T15:53:47.190692200Z"
    }
   },
   "id": "2a824f8eb9db4abe"
  },
  {
   "cell_type": "code",
   "execution_count": 26,
   "outputs": [],
   "source": [
    "ind_to_class = {ind: cl for ind, cl in enumerate(vecs_clf.classes_)}"
   ],
   "metadata": {
    "collapsed": false,
    "ExecuteTime": {
     "end_time": "2023-12-04T15:53:48.248292400Z",
     "start_time": "2023-12-04T15:53:48.232755700Z"
    }
   },
   "id": "3315523c7e135df3"
  },
  {
   "cell_type": "code",
   "execution_count": 27,
   "outputs": [
    {
     "name": "stdout",
     "output_type": "stream",
     "text": [
      "0.38859212869159454\n",
      "0.5180819058144532\n",
      "0.5108368637563702\n"
     ]
    }
   ],
   "source": [
    "vecs_y_pred = np.argmax(vecs_y_proba, axis=1)\n",
    "vecs_y_pred = [ind_to_class[ind] for ind in vecs_y_pred]\n",
    "cv_y_pred = np.argmax(cv_y_proba, axis=1)\n",
    "cv_y_pred = [ind_to_class[ind] for ind in cv_y_pred]\n",
    "total_y_pred = np.argmax(vecs_y_proba + cv_y_proba, axis=1)\n",
    "total_y_pred = [ind_to_class[ind] for ind in total_y_pred]\n",
    "print(accuracy_score(y_test, vecs_y_pred))\n",
    "print(accuracy_score(y_test, cv_y_pred))\n",
    "print(accuracy_score(y_test, total_y_pred))"
   ],
   "metadata": {
    "collapsed": false,
    "ExecuteTime": {
     "end_time": "2023-12-04T15:53:48.335660100Z",
     "start_time": "2023-12-04T15:53:48.248292400Z"
    }
   },
   "id": "ed5a7df917409bcc"
  },
  {
   "cell_type": "code",
   "execution_count": 28,
   "outputs": [
    {
     "name": "stdout",
     "output_type": "stream",
     "text": [
      "0.5180819058144532\n"
     ]
    }
   ],
   "source": [
    "print(accuracy_score(y_test, cv_clf.predict(cv_X_test)))"
   ],
   "metadata": {
    "collapsed": false,
    "ExecuteTime": {
     "end_time": "2023-12-04T15:53:48.891958400Z",
     "start_time": "2023-12-04T15:53:48.335371500Z"
    }
   },
   "id": "dac57214ef99e36b"
  },
  {
   "cell_type": "code",
   "execution_count": 29,
   "outputs": [
    {
     "data": {
      "text/plain": "array([1000, 2400, 1311, ..., 1000, 3100, 1241], dtype=int64)"
     },
     "execution_count": 29,
     "metadata": {},
     "output_type": "execute_result"
    }
   ],
   "source": [
    "cv_clf.predict(cv_X_test)"
   ],
   "metadata": {
    "collapsed": false,
    "ExecuteTime": {
     "end_time": "2023-12-04T15:53:49.435487800Z",
     "start_time": "2023-12-04T15:53:48.891958400Z"
    }
   },
   "id": "de3be757cd016160"
  },
  {
   "cell_type": "code",
   "execution_count": 30,
   "outputs": [
    {
     "data": {
      "text/plain": "array([[3.50660452e-01, 2.67515907e-03, 1.36320652e-03, ...,\n        7.03320703e-04, 1.19402948e-03, 5.38962277e-04],\n       [3.38787421e-01, 6.28230225e-05, 2.82873224e-04, ...,\n        7.78103922e-06, 5.98294749e-05, 5.72559504e-06],\n       [1.70402329e-01, 1.58967546e-02, 2.51530647e-05, ...,\n        3.03666085e-04, 7.39841915e-05, 2.26146282e-05],\n       ...,\n       [2.97371714e-01, 4.20106711e-04, 2.22334357e-03, ...,\n        1.86452450e-03, 1.38968133e-03, 2.55138327e-04],\n       [9.96247529e-03, 2.63999348e-04, 1.45460574e-04, ...,\n        3.64175818e-04, 1.62076494e-04, 4.21555754e-05],\n       [1.92900518e-01, 4.59247232e-03, 8.67420889e-05, ...,\n        3.36313194e-03, 6.75652223e-05, 4.27028167e-05]])"
     },
     "execution_count": 30,
     "metadata": {},
     "output_type": "execute_result"
    }
   ],
   "source": [
    "cv_clf.predict_proba(cv_X_test)"
   ],
   "metadata": {
    "collapsed": false,
    "ExecuteTime": {
     "end_time": "2023-12-04T15:53:50.030689700Z",
     "start_time": "2023-12-04T15:53:49.435487800Z"
    }
   },
   "id": "64ea11d52d0ca913"
  }
 ],
 "metadata": {
  "kernelspec": {
   "display_name": "Python 3",
   "language": "python",
   "name": "python3"
  },
  "language_info": {
   "codemirror_mode": {
    "name": "ipython",
    "version": 2
   },
   "file_extension": ".py",
   "mimetype": "text/x-python",
   "name": "python",
   "nbconvert_exporter": "python",
   "pygments_lexer": "ipython2",
   "version": "2.7.6"
  }
 },
 "nbformat": 4,
 "nbformat_minor": 5
}
