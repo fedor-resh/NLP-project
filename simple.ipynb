{
 "cells": [
  {
   "cell_type": "code",
   "execution_count": 1,
   "id": "initial_id",
   "metadata": {
    "collapsed": true,
    "ExecuteTime": {
     "end_time": "2023-11-03T17:12:49.067813600Z",
     "start_time": "2023-11-03T17:12:48.221096600Z"
    }
   },
   "outputs": [],
   "source": [
    "from pymorphy2 import MorphAnalyzer\n",
    "import pandas as pd\n",
    "import numpy as np"
   ]
  },
  {
   "cell_type": "code",
   "execution_count": 2,
   "outputs": [
    {
     "data": {
      "text/plain": "                             uu_usl_name  CLASS_ID  SERVICE_CLASS_CONFIRMED  \\\n0                    АМБУЛАТОРНАЯ ПОМОЩЬ      1000                      NaN   \n1                    АМБУЛАТОРНАЯ ПОМОЩЬ      1292                      NaN   \n2  КОНСУЛЬТАТИВНО-ДИАГНОСТИЧЕСКАЯ ПОМОЩЬ      1000                      NaN   \n3                       Сбербанк Премьер      3200                      1.0   \n4                       Сбербанк Премьер      8350                      1.0   \n\n   CNT_DIST_USL_BY_CLASS  CNT_NUM_USL  \n0                  12614       812414  \n1                    777       812414  \n2                  12614       740580  \n3                   3974       489254  \n4                    104       489254  ",
      "text/html": "<div>\n<style scoped>\n    .dataframe tbody tr th:only-of-type {\n        vertical-align: middle;\n    }\n\n    .dataframe tbody tr th {\n        vertical-align: top;\n    }\n\n    .dataframe thead th {\n        text-align: right;\n    }\n</style>\n<table border=\"1\" class=\"dataframe\">\n  <thead>\n    <tr style=\"text-align: right;\">\n      <th></th>\n      <th>uu_usl_name</th>\n      <th>CLASS_ID</th>\n      <th>SERVICE_CLASS_CONFIRMED</th>\n      <th>CNT_DIST_USL_BY_CLASS</th>\n      <th>CNT_NUM_USL</th>\n    </tr>\n  </thead>\n  <tbody>\n    <tr>\n      <th>0</th>\n      <td>АМБУЛАТОРНАЯ ПОМОЩЬ</td>\n      <td>1000</td>\n      <td>NaN</td>\n      <td>12614</td>\n      <td>812414</td>\n    </tr>\n    <tr>\n      <th>1</th>\n      <td>АМБУЛАТОРНАЯ ПОМОЩЬ</td>\n      <td>1292</td>\n      <td>NaN</td>\n      <td>777</td>\n      <td>812414</td>\n    </tr>\n    <tr>\n      <th>2</th>\n      <td>КОНСУЛЬТАТИВНО-ДИАГНОСТИЧЕСКАЯ ПОМОЩЬ</td>\n      <td>1000</td>\n      <td>NaN</td>\n      <td>12614</td>\n      <td>740580</td>\n    </tr>\n    <tr>\n      <th>3</th>\n      <td>Сбербанк Премьер</td>\n      <td>3200</td>\n      <td>1.0</td>\n      <td>3974</td>\n      <td>489254</td>\n    </tr>\n    <tr>\n      <th>4</th>\n      <td>Сбербанк Премьер</td>\n      <td>8350</td>\n      <td>1.0</td>\n      <td>104</td>\n      <td>489254</td>\n    </tr>\n  </tbody>\n</table>\n</div>"
     },
     "execution_count": 2,
     "metadata": {},
     "output_type": "execute_result"
    }
   ],
   "source": [
    "df = pd.read_csv('dataset.csv')\n",
    "df.head()"
   ],
   "metadata": {
    "collapsed": false,
    "ExecuteTime": {
     "end_time": "2023-11-03T17:12:49.423079900Z",
     "start_time": "2023-11-03T17:12:49.067813600Z"
    }
   },
   "id": "a0b0879298815cf"
  },
  {
   "cell_type": "code",
   "execution_count": null,
   "outputs": [],
   "source": [],
   "metadata": {
    "collapsed": false
   },
   "id": "666b75dc7649f092"
  },
  {
   "cell_type": "code",
   "execution_count": 2,
   "outputs": [],
   "source": [],
   "metadata": {
    "collapsed": false,
    "ExecuteTime": {
     "end_time": "2023-11-03T17:12:49.465189300Z",
     "start_time": "2023-11-03T17:12:49.423079900Z"
    }
   },
   "id": "a0f18a7a57683b2c"
  },
  {
   "cell_type": "code",
   "execution_count": 3,
   "outputs": [],
   "source": [
    "def prepare_Xy():\n",
    "    df = pd.read_csv('dataset.csv')\n",
    "    df = df.query('CLASS_ID != 9000')\n",
    "    X = df['uu_usl_name']\n",
    "    y = df['CLASS_ID']\n",
    "    return X,y\n",
    "X, y = prepare_Xy()\n",
    "\n"
   ],
   "metadata": {
    "collapsed": false,
    "ExecuteTime": {
     "end_time": "2023-11-03T17:12:49.915212600Z",
     "start_time": "2023-11-03T17:12:49.449557500Z"
    }
   },
   "id": "3d2e84fdb6125b3c"
  },
  {
   "cell_type": "code",
   "execution_count": 4,
   "outputs": [],
   "source": [
    "import pymorphy2\n",
    "morph = pymorphy2.MorphAnalyzer()\n",
    "X = X.apply(lambda x: ' '.join([morph.parse(word)[0].normal_form for word in x.split()]))"
   ],
   "metadata": {
    "collapsed": false,
    "ExecuteTime": {
     "end_time": "2023-11-03T17:15:08.123334400Z",
     "start_time": "2023-11-03T17:12:49.899583700Z"
    }
   },
   "id": "1518a8e225552d7e"
  },
  {
   "cell_type": "code",
   "execution_count": 5,
   "outputs": [],
   "source": [
    "from sklearn.feature_extraction.text import CountVectorizer\n",
    "cv = CountVectorizer()\n",
    "tX = cv.fit_transform(X)"
   ],
   "metadata": {
    "collapsed": false,
    "ExecuteTime": {
     "end_time": "2023-11-03T17:15:10.269395600Z",
     "start_time": "2023-11-03T17:15:08.134336600Z"
    }
   },
   "id": "bce0dc966472e95e"
  },
  {
   "cell_type": "code",
   "execution_count": 6,
   "outputs": [
    {
     "data": {
      "text/plain": "(81431, 17707)"
     },
     "execution_count": 6,
     "metadata": {},
     "output_type": "execute_result"
    }
   ],
   "source": [
    "tX.shape"
   ],
   "metadata": {
    "collapsed": false,
    "ExecuteTime": {
     "end_time": "2023-11-03T17:15:10.393371800Z",
     "start_time": "2023-11-03T17:15:10.275368200Z"
    }
   },
   "id": "4f4c8effc82bb9ba"
  },
  {
   "cell_type": "code",
   "execution_count": 28,
   "outputs": [],
   "source": [
    "from sklearn.model_selection import train_test_split\n"
   ],
   "metadata": {
    "collapsed": false,
    "ExecuteTime": {
     "end_time": "2023-11-03T17:17:53.233694Z",
     "start_time": "2023-11-03T17:17:53.196068300Z"
    }
   },
   "id": "484582075ac516a4"
  },
  {
   "cell_type": "code",
   "execution_count": 34,
   "outputs": [
    {
     "name": "stdout",
     "output_type": "stream",
     "text": [
      "0.4792485265225933\n"
     ]
    }
   ],
   "source": [
    "X_train,X_test,y_train,y_test = train_test_split(tX,y,test_size=0.1)\n",
    "from sklearn.naive_bayes import MultinomialNB\n",
    "model = MultinomialNB()\n",
    "model.fit(X_train,y_train)\n",
    "pred = model.predict(X_test)\n",
    "print(sum(pred == y_test)/len(y_test))"
   ],
   "metadata": {
    "collapsed": false,
    "ExecuteTime": {
     "end_time": "2023-11-03T17:18:11.461232800Z",
     "start_time": "2023-11-03T17:18:09.895659Z"
    }
   },
   "id": "bfb17cf1f1cb9426"
  },
  {
   "cell_type": "code",
   "execution_count": 30,
   "outputs": [
    {
     "name": "stdout",
     "output_type": "stream",
     "text": [
      "0.4815815324165029\n"
     ]
    }
   ],
   "source": [],
   "metadata": {
    "collapsed": false,
    "ExecuteTime": {
     "end_time": "2023-11-03T17:17:55.544685500Z",
     "start_time": "2023-11-03T17:17:55.345294Z"
    }
   },
   "id": "1da84f0c544a0fe3"
  },
  {
   "cell_type": "code",
   "execution_count": 10,
   "outputs": [
    {
     "data": {
      "text/plain": "['simple_vectorized_cv.joblib']"
     },
     "execution_count": 10,
     "metadata": {},
     "output_type": "execute_result"
    }
   ],
   "source": [
    "from joblib import dump, load\n",
    "dump(model, 'simple_vectorized_model.joblib')\n",
    "dump(cv, 'simple_vectorized_cv.joblib')"
   ],
   "metadata": {
    "collapsed": false,
    "ExecuteTime": {
     "end_time": "2023-11-03T17:15:12.608369800Z",
     "start_time": "2023-11-03T17:15:12.074373Z"
    }
   },
   "id": "91283f6855710afe"
  },
  {
   "cell_type": "code",
   "execution_count": 11,
   "outputs": [],
   "source": [
    "def simple_model_pipeline(X):\n",
    "    from joblib import load\n",
    "    model = load('simple_vectorized_model.joblib')\n",
    "    cv = load('simple_vectorized_cv.joblib')\n",
    "    pred_proba = model.predict_proba(cv.transform(X))\n",
    "    classes = model.classes_\n",
    "    return pd.DataFrame(pred_proba, columns=classes)"
   ],
   "metadata": {
    "collapsed": false,
    "ExecuteTime": {
     "end_time": "2023-11-03T17:15:12.703365600Z",
     "start_time": "2023-11-03T17:15:12.601371700Z"
    }
   },
   "id": "fc9e49fea0b441fa"
  },
  {
   "cell_type": "code",
   "execution_count": 11,
   "outputs": [],
   "source": [],
   "metadata": {
    "collapsed": false,
    "ExecuteTime": {
     "end_time": "2023-11-03T17:15:12.725372600Z",
     "start_time": "2023-11-03T17:15:12.640370400Z"
    }
   },
   "id": "1e067d445bebc720"
  }
 ],
 "metadata": {
  "kernelspec": {
   "display_name": "Python 3",
   "language": "python",
   "name": "python3"
  },
  "language_info": {
   "codemirror_mode": {
    "name": "ipython",
    "version": 2
   },
   "file_extension": ".py",
   "mimetype": "text/x-python",
   "name": "python",
   "nbconvert_exporter": "python",
   "pygments_lexer": "ipython2",
   "version": "2.7.6"
  }
 },
 "nbformat": 4,
 "nbformat_minor": 5
}
