{
 "cells": [
  {
   "cell_type": "code",
   "execution_count": 1,
   "id": "c5eec60912b2bf16",
   "metadata": {
    "collapsed": false,
    "ExecuteTime": {
     "end_time": "2023-11-02T05:54:14.023226300Z",
     "start_time": "2023-11-02T05:54:12.346355600Z"
    }
   },
   "outputs": [],
   "source": [
    "from pymorphy2 import MorphAnalyzer\n",
    "from gensim.models import KeyedVectors\n",
    "from time import time\n",
    "import numpy as np\n",
    "import pandas as pd"
   ]
  },
  {
   "cell_type": "markdown",
   "id": "9429ea15cbaa2d07",
   "metadata": {
    "collapsed": false
   },
   "source": [
    "load model"
   ]
  },
  {
   "cell_type": "code",
   "execution_count": 2,
   "id": "423cd02512bcd45e",
   "metadata": {
    "collapsed": false,
    "ExecuteTime": {
     "end_time": "2023-11-02T05:54:48.934211400Z",
     "start_time": "2023-11-02T05:54:14.030096100Z"
    }
   },
   "outputs": [],
   "source": [
    "model = KeyedVectors.load_word2vec_format('word_to_vec.bin', binary=True)"
   ]
  },
  {
   "cell_type": "code",
   "execution_count": 3,
   "id": "39fd5db5d56d2641",
   "metadata": {
    "collapsed": false,
    "ExecuteTime": {
     "end_time": "2023-11-02T05:54:49.713208100Z",
     "start_time": "2023-11-02T05:54:48.939211900Z"
    }
   },
   "outputs": [
    {
     "name": "stdout",
     "output_type": "stream",
     "text": [
      "[ 0.01319534 -0.44012567 -0.24828333 -0.30982634  0.44310102  0.18418433\n",
      "  0.12236699 -0.06977067 -0.22141068  0.33174     0.04571233  0.4523003\n",
      "  0.05751466 -0.25541267 -0.10298267  0.32320166  0.28154334  0.05418434\n",
      "  0.45345068  0.20138998 -0.389215    0.384002    0.34564066 -0.25499168\n",
      "  0.16727601  0.03322067  0.00858967  0.066601   -0.05029468 -0.19079167\n",
      "  0.04519533 -0.027845   -0.257506    0.01388633 -0.04997567 -0.03241967\n",
      "  0.014428   -0.11890599  0.029228   -0.34692034 -0.26247802  0.298645\n",
      "  0.3107127  -0.14327334 -0.15045999  0.129627    0.20942901 -0.05834166\n",
      "  0.17391133 -0.16441034  0.12307634 -0.14922099 -0.061433    0.22274001\n",
      "  0.13244967  0.02664267  0.07971966  0.3478087  -0.11845666 -0.29305732\n",
      " -0.074766   -0.02340234 -0.02104733 -0.14968766  0.07986266  0.24631031\n",
      "  0.020461   -0.23431699  0.6417493  -0.041198    0.48819467  0.04603934\n",
      "  0.02268433 -0.2872503  -0.005793   -0.10669366 -0.32312167  0.13104033\n",
      "  0.01454767 -0.22922999  0.085271   -0.13496734  0.05935466 -0.23421733\n",
      "  0.337556    0.19458866  0.10922467  0.05219467  0.166103   -0.028745\n",
      "  0.04827834  0.45796633 -0.12064033  0.10168166  0.145835   -0.02456266\n",
      " -0.06269667  0.28109932 -0.06120467  0.147698  ]\n"
     ]
    }
   ],
   "source": [
    "morph = MorphAnalyzer()\n",
    "def handle_word(word):\n",
    "    word = word.lower().strip('(.,!?:;\\'\"«»—-–)')\n",
    "    p = morph.parse(word)[0]\n",
    "    return p.normal_form\n",
    "def get_average_vector(words):\n",
    "    vectors = []\n",
    "    for word in words:\n",
    "        parsed = handle_word(word)\n",
    "        if parsed in model:\n",
    "            vectors.append(model[parsed])\n",
    "        else:\n",
    "            vectors.append(np.zeros(100))\n",
    "    return np.mean(vectors, axis=0)\n",
    "\n",
    "\n",
    "print(get_average_vector(['привет', 'как', 'дела']))"
   ]
  },
  {
   "cell_type": "markdown",
   "metadata": {},
   "source": [
    "#### check model "
   ],
   "id": "eea5be5d5d03f488"
  },
  {
   "cell_type": "code",
   "execution_count": 4,
   "metadata": {
    "ExecuteTime": {
     "end_time": "2023-11-02T05:54:49.751209200Z",
     "start_time": "2023-11-02T05:54:49.719211700Z"
    }
   },
   "outputs": [],
   "source": [
    "# all_words = list(set([word for text in data['uu_usl_name'].values[:10000] for word in text.split()]))\n",
    "# print(len([handle_word(word) for word in all_words if handle_word(word) in model]))"
   ],
   "id": "c8cba05a293d0565"
  },
  {
   "cell_type": "code",
   "execution_count": 3,
   "id": "64fdcf81d13c13f9",
   "metadata": {
    "collapsed": false,
    "ExecuteTime": {
     "end_time": "2023-11-06T18:08:33.032660800Z",
     "start_time": "2023-11-06T18:08:29.741540900Z"
    }
   },
   "outputs": [
    {
     "data": {
      "text/plain": "                                             uu_usl_name  CLASS_ID  \\\n0                                    АМБУЛАТОРНАЯ ПОМОЩЬ      1000   \n1                                    АМБУЛАТОРНАЯ ПОМОЩЬ      1292   \n2                  КОНСУЛЬТАТИВНО-ДИАГНОСТИЧЕСКАЯ ПОМОЩЬ      1000   \n3                                       Сбербанк Премьер      3200   \n4                                       Сбербанк Премьер      8350   \n...                                                  ...       ...   \n81601      Прием врачом-онкологом первичный амбулаторный      9000   \n81602                           Проводниковая анестезия       9000   \n81603  Проводниковая анестезия (блокада по Оберсту-Лу...      9000   \n81604         Проводниковая анестезия Sol. Ultracani D.S      9000   \n81605  Удаление новообразования мягких тканей под мес...      9000   \n\n       SERVICE_CLASS_CONFIRMED  CNT_DIST_USL_BY_CLASS  CNT_NUM_USL  \n0                          NaN                  12614       812414  \n1                          NaN                    777       812414  \n2                          NaN                  12614       740580  \n3                          1.0                   3974       489254  \n4                          1.0                    104       489254  \n...                        ...                    ...          ...  \n81601                      NaN                    169            1  \n81602                      NaN                    169            1  \n81603                      NaN                    169            1  \n81604                      NaN                    169            1  \n81605                      NaN                    169            1  \n\n[81606 rows x 5 columns]",
      "text/html": "<div>\n<style scoped>\n    .dataframe tbody tr th:only-of-type {\n        vertical-align: middle;\n    }\n\n    .dataframe tbody tr th {\n        vertical-align: top;\n    }\n\n    .dataframe thead th {\n        text-align: right;\n    }\n</style>\n<table border=\"1\" class=\"dataframe\">\n  <thead>\n    <tr style=\"text-align: right;\">\n      <th></th>\n      <th>uu_usl_name</th>\n      <th>CLASS_ID</th>\n      <th>SERVICE_CLASS_CONFIRMED</th>\n      <th>CNT_DIST_USL_BY_CLASS</th>\n      <th>CNT_NUM_USL</th>\n    </tr>\n  </thead>\n  <tbody>\n    <tr>\n      <th>0</th>\n      <td>АМБУЛАТОРНАЯ ПОМОЩЬ</td>\n      <td>1000</td>\n      <td>NaN</td>\n      <td>12614</td>\n      <td>812414</td>\n    </tr>\n    <tr>\n      <th>1</th>\n      <td>АМБУЛАТОРНАЯ ПОМОЩЬ</td>\n      <td>1292</td>\n      <td>NaN</td>\n      <td>777</td>\n      <td>812414</td>\n    </tr>\n    <tr>\n      <th>2</th>\n      <td>КОНСУЛЬТАТИВНО-ДИАГНОСТИЧЕСКАЯ ПОМОЩЬ</td>\n      <td>1000</td>\n      <td>NaN</td>\n      <td>12614</td>\n      <td>740580</td>\n    </tr>\n    <tr>\n      <th>3</th>\n      <td>Сбербанк Премьер</td>\n      <td>3200</td>\n      <td>1.0</td>\n      <td>3974</td>\n      <td>489254</td>\n    </tr>\n    <tr>\n      <th>4</th>\n      <td>Сбербанк Премьер</td>\n      <td>8350</td>\n      <td>1.0</td>\n      <td>104</td>\n      <td>489254</td>\n    </tr>\n    <tr>\n      <th>...</th>\n      <td>...</td>\n      <td>...</td>\n      <td>...</td>\n      <td>...</td>\n      <td>...</td>\n    </tr>\n    <tr>\n      <th>81601</th>\n      <td>Прием врачом-онкологом первичный амбулаторный</td>\n      <td>9000</td>\n      <td>NaN</td>\n      <td>169</td>\n      <td>1</td>\n    </tr>\n    <tr>\n      <th>81602</th>\n      <td>Проводниковая анестезия</td>\n      <td>9000</td>\n      <td>NaN</td>\n      <td>169</td>\n      <td>1</td>\n    </tr>\n    <tr>\n      <th>81603</th>\n      <td>Проводниковая анестезия (блокада по Оберсту-Лу...</td>\n      <td>9000</td>\n      <td>NaN</td>\n      <td>169</td>\n      <td>1</td>\n    </tr>\n    <tr>\n      <th>81604</th>\n      <td>Проводниковая анестезия Sol. Ultracani D.S</td>\n      <td>9000</td>\n      <td>NaN</td>\n      <td>169</td>\n      <td>1</td>\n    </tr>\n    <tr>\n      <th>81605</th>\n      <td>Удаление новообразования мягких тканей под мес...</td>\n      <td>9000</td>\n      <td>NaN</td>\n      <td>169</td>\n      <td>1</td>\n    </tr>\n  </tbody>\n</table>\n<p>81606 rows × 5 columns</p>\n</div>"
     },
     "execution_count": 3,
     "metadata": {},
     "output_type": "execute_result"
    }
   ],
   "source": [
    "import pandas as pd\n",
    "data = pd.read_csv('dataset.csv', sep=',')\n",
    "data"
   ]
  },
  {
   "cell_type": "code",
   "execution_count": 6,
   "id": "10abc29debad477e",
   "metadata": {
    "collapsed": false,
    "ExecuteTime": {
     "end_time": "2023-11-02T05:54:50.213212900Z",
     "start_time": "2023-11-02T05:54:50.068211700Z"
    }
   },
   "outputs": [],
   "source": [
    "#clear data\n",
    "columns_to_delete = ['SERVICE_CLASS_CONFIRMED', 'CNT_DIST_USL_BY_CLASS', 'CNT_NUM_USL']\n",
    "data = data.drop(columns_to_delete, axis=1)\n",
    "data = data[data.CLASS_ID != 9000]"
   ]
  },
  {
   "cell_type": "code",
   "execution_count": 7,
   "id": "4bb485a0",
   "metadata": {
    "ExecuteTime": {
     "end_time": "2023-11-02T05:57:21.894556Z",
     "start_time": "2023-11-02T05:54:50.163213100Z"
    }
   },
   "outputs": [],
   "source": [
    "pre_X = [get_average_vector(text.split()) for text in data['uu_usl_name'].values]"
   ]
  },
  {
   "cell_type": "code",
   "execution_count": 8,
   "outputs": [],
   "source": [
    "del model"
   ],
   "metadata": {
    "collapsed": false,
    "ExecuteTime": {
     "end_time": "2023-11-02T05:57:22.507545400Z",
     "start_time": "2023-11-02T05:57:22.491907700Z"
    }
   },
   "id": "b10224cf0eac1e32"
  },
  {
   "cell_type": "code",
   "execution_count": 9,
   "id": "6716aea9",
   "metadata": {
    "ExecuteTime": {
     "end_time": "2023-11-02T05:57:27.673050500Z",
     "start_time": "2023-11-02T05:57:22.507545400Z"
    }
   },
   "outputs": [
    {
     "data": {
      "text/plain": "         0         1         2         3         4         5         6   \\\n0 -0.191372 -0.244398 -0.168261  0.232595  0.652055  0.053336  0.187999   \n1 -0.191372 -0.244398 -0.168261  0.232595  0.652055  0.053336  0.187999   \n2 -0.077774 -0.288235  0.035577  0.285684  0.560462 -0.148274  0.155463   \n3 -0.372827 -0.135439  0.156183 -0.010491  0.134077 -0.344258 -0.224037   \n4 -0.372827 -0.135439  0.156183 -0.010491  0.134077 -0.344258 -0.224037   \n\n         7         8         9   ...        90        91        92        93  \\\n0 -0.201186 -0.614163  0.251317  ...  0.573032  0.079496  0.545428  0.539856   \n1 -0.201186 -0.614163  0.251317  ...  0.573032  0.079496  0.545428  0.539856   \n2 -0.072728 -0.568736  0.051853  ...  0.491524 -0.014641  0.279054  0.690858   \n3  0.029237 -0.082438  0.520093  ... -0.086702  0.361299 -0.205426  0.239095   \n4  0.029237 -0.082438  0.520093  ... -0.086702  0.361299 -0.205426  0.239095   \n\n         94        95        96        97        98        99  \n0  0.176765  0.349771  0.218045  0.271989  0.489833 -0.212393  \n1  0.176765  0.349771  0.218045  0.271989  0.489833 -0.212393  \n2  0.183297  0.060691  0.288101  0.156691  0.311036 -0.134095  \n3 -0.405685  0.158046 -0.211746 -0.081887 -0.014821  0.552056  \n4 -0.405685  0.158046 -0.211746 -0.081887 -0.014821  0.552056  \n\n[5 rows x 100 columns]",
      "text/html": "<div>\n<style scoped>\n    .dataframe tbody tr th:only-of-type {\n        vertical-align: middle;\n    }\n\n    .dataframe tbody tr th {\n        vertical-align: top;\n    }\n\n    .dataframe thead th {\n        text-align: right;\n    }\n</style>\n<table border=\"1\" class=\"dataframe\">\n  <thead>\n    <tr style=\"text-align: right;\">\n      <th></th>\n      <th>0</th>\n      <th>1</th>\n      <th>2</th>\n      <th>3</th>\n      <th>4</th>\n      <th>5</th>\n      <th>6</th>\n      <th>7</th>\n      <th>8</th>\n      <th>9</th>\n      <th>...</th>\n      <th>90</th>\n      <th>91</th>\n      <th>92</th>\n      <th>93</th>\n      <th>94</th>\n      <th>95</th>\n      <th>96</th>\n      <th>97</th>\n      <th>98</th>\n      <th>99</th>\n    </tr>\n  </thead>\n  <tbody>\n    <tr>\n      <th>0</th>\n      <td>-0.191372</td>\n      <td>-0.244398</td>\n      <td>-0.168261</td>\n      <td>0.232595</td>\n      <td>0.652055</td>\n      <td>0.053336</td>\n      <td>0.187999</td>\n      <td>-0.201186</td>\n      <td>-0.614163</td>\n      <td>0.251317</td>\n      <td>...</td>\n      <td>0.573032</td>\n      <td>0.079496</td>\n      <td>0.545428</td>\n      <td>0.539856</td>\n      <td>0.176765</td>\n      <td>0.349771</td>\n      <td>0.218045</td>\n      <td>0.271989</td>\n      <td>0.489833</td>\n      <td>-0.212393</td>\n    </tr>\n    <tr>\n      <th>1</th>\n      <td>-0.191372</td>\n      <td>-0.244398</td>\n      <td>-0.168261</td>\n      <td>0.232595</td>\n      <td>0.652055</td>\n      <td>0.053336</td>\n      <td>0.187999</td>\n      <td>-0.201186</td>\n      <td>-0.614163</td>\n      <td>0.251317</td>\n      <td>...</td>\n      <td>0.573032</td>\n      <td>0.079496</td>\n      <td>0.545428</td>\n      <td>0.539856</td>\n      <td>0.176765</td>\n      <td>0.349771</td>\n      <td>0.218045</td>\n      <td>0.271989</td>\n      <td>0.489833</td>\n      <td>-0.212393</td>\n    </tr>\n    <tr>\n      <th>2</th>\n      <td>-0.077774</td>\n      <td>-0.288235</td>\n      <td>0.035577</td>\n      <td>0.285684</td>\n      <td>0.560462</td>\n      <td>-0.148274</td>\n      <td>0.155463</td>\n      <td>-0.072728</td>\n      <td>-0.568736</td>\n      <td>0.051853</td>\n      <td>...</td>\n      <td>0.491524</td>\n      <td>-0.014641</td>\n      <td>0.279054</td>\n      <td>0.690858</td>\n      <td>0.183297</td>\n      <td>0.060691</td>\n      <td>0.288101</td>\n      <td>0.156691</td>\n      <td>0.311036</td>\n      <td>-0.134095</td>\n    </tr>\n    <tr>\n      <th>3</th>\n      <td>-0.372827</td>\n      <td>-0.135439</td>\n      <td>0.156183</td>\n      <td>-0.010491</td>\n      <td>0.134077</td>\n      <td>-0.344258</td>\n      <td>-0.224037</td>\n      <td>0.029237</td>\n      <td>-0.082438</td>\n      <td>0.520093</td>\n      <td>...</td>\n      <td>-0.086702</td>\n      <td>0.361299</td>\n      <td>-0.205426</td>\n      <td>0.239095</td>\n      <td>-0.405685</td>\n      <td>0.158046</td>\n      <td>-0.211746</td>\n      <td>-0.081887</td>\n      <td>-0.014821</td>\n      <td>0.552056</td>\n    </tr>\n    <tr>\n      <th>4</th>\n      <td>-0.372827</td>\n      <td>-0.135439</td>\n      <td>0.156183</td>\n      <td>-0.010491</td>\n      <td>0.134077</td>\n      <td>-0.344258</td>\n      <td>-0.224037</td>\n      <td>0.029237</td>\n      <td>-0.082438</td>\n      <td>0.520093</td>\n      <td>...</td>\n      <td>-0.086702</td>\n      <td>0.361299</td>\n      <td>-0.205426</td>\n      <td>0.239095</td>\n      <td>-0.405685</td>\n      <td>0.158046</td>\n      <td>-0.211746</td>\n      <td>-0.081887</td>\n      <td>-0.014821</td>\n      <td>0.552056</td>\n    </tr>\n  </tbody>\n</table>\n<p>5 rows × 100 columns</p>\n</div>"
     },
     "execution_count": 9,
     "metadata": {},
     "output_type": "execute_result"
    }
   ],
   "source": [
    "\n",
    "X = pd.DataFrame(pre_X, dtype=float).fillna(0)\n",
    "X.head()"
   ]
  },
  {
   "cell_type": "code",
   "execution_count": 10,
   "metadata": {
    "ExecuteTime": {
     "end_time": "2023-11-02T05:57:27.719900900Z",
     "start_time": "2023-11-02T05:57:27.673050500Z"
    }
   },
   "outputs": [],
   "source": [
    "y = data['CLASS_ID'].values"
   ],
   "id": "9c5a5d77226d2b8e"
  },
  {
   "cell_type": "code",
   "execution_count": 11,
   "metadata": {
    "ExecuteTime": {
     "end_time": "2023-11-02T05:57:29.064280500Z",
     "start_time": "2023-11-02T05:57:27.704268400Z"
    }
   },
   "outputs": [],
   "source": [
    "from sklearn.model_selection import train_test_split\n",
    "from sklearn.metrics import accuracy_score\n",
    "from sklearn.ensemble import RandomForestClassifier\n",
    "\n",
    "X_train, X_test, y_train, y_test = train_test_split(X, y, test_size=0.1)\n",
    "\n",
    "clf = RandomForestClassifier(\n",
    "    n_estimators=20,\n",
    "    max_depth=200,\n",
    "    random_state=0,\n",
    "    n_jobs=-1,\n",
    "    min_samples_split=10,\n",
    "    min_samples_leaf=10,\n",
    ")\n",
    "\n"
   ],
   "id": "1165f38aa88786f0"
  },
  {
   "cell_type": "code",
   "execution_count": 12,
   "metadata": {
    "ExecuteTime": {
     "end_time": "2023-11-02T05:58:00.444530700Z",
     "start_time": "2023-11-02T05:57:29.064280500Z"
    }
   },
   "outputs": [
    {
     "data": {
      "text/plain": "RandomForestClassifier(max_depth=200, min_samples_leaf=10, min_samples_split=10,\n                       n_estimators=20, n_jobs=-1, random_state=0)",
      "text/html": "<style>#sk-container-id-1 {color: black;}#sk-container-id-1 pre{padding: 0;}#sk-container-id-1 div.sk-toggleable {background-color: white;}#sk-container-id-1 label.sk-toggleable__label {cursor: pointer;display: block;width: 100%;margin-bottom: 0;padding: 0.3em;box-sizing: border-box;text-align: center;}#sk-container-id-1 label.sk-toggleable__label-arrow:before {content: \"▸\";float: left;margin-right: 0.25em;color: #696969;}#sk-container-id-1 label.sk-toggleable__label-arrow:hover:before {color: black;}#sk-container-id-1 div.sk-estimator:hover label.sk-toggleable__label-arrow:before {color: black;}#sk-container-id-1 div.sk-toggleable__content {max-height: 0;max-width: 0;overflow: hidden;text-align: left;background-color: #f0f8ff;}#sk-container-id-1 div.sk-toggleable__content pre {margin: 0.2em;color: black;border-radius: 0.25em;background-color: #f0f8ff;}#sk-container-id-1 input.sk-toggleable__control:checked~div.sk-toggleable__content {max-height: 200px;max-width: 100%;overflow: auto;}#sk-container-id-1 input.sk-toggleable__control:checked~label.sk-toggleable__label-arrow:before {content: \"▾\";}#sk-container-id-1 div.sk-estimator input.sk-toggleable__control:checked~label.sk-toggleable__label {background-color: #d4ebff;}#sk-container-id-1 div.sk-label input.sk-toggleable__control:checked~label.sk-toggleable__label {background-color: #d4ebff;}#sk-container-id-1 input.sk-hidden--visually {border: 0;clip: rect(1px 1px 1px 1px);clip: rect(1px, 1px, 1px, 1px);height: 1px;margin: -1px;overflow: hidden;padding: 0;position: absolute;width: 1px;}#sk-container-id-1 div.sk-estimator {font-family: monospace;background-color: #f0f8ff;border: 1px dotted black;border-radius: 0.25em;box-sizing: border-box;margin-bottom: 0.5em;}#sk-container-id-1 div.sk-estimator:hover {background-color: #d4ebff;}#sk-container-id-1 div.sk-parallel-item::after {content: \"\";width: 100%;border-bottom: 1px solid gray;flex-grow: 1;}#sk-container-id-1 div.sk-label:hover label.sk-toggleable__label {background-color: #d4ebff;}#sk-container-id-1 div.sk-serial::before {content: \"\";position: absolute;border-left: 1px solid gray;box-sizing: border-box;top: 0;bottom: 0;left: 50%;z-index: 0;}#sk-container-id-1 div.sk-serial {display: flex;flex-direction: column;align-items: center;background-color: white;padding-right: 0.2em;padding-left: 0.2em;position: relative;}#sk-container-id-1 div.sk-item {position: relative;z-index: 1;}#sk-container-id-1 div.sk-parallel {display: flex;align-items: stretch;justify-content: center;background-color: white;position: relative;}#sk-container-id-1 div.sk-item::before, #sk-container-id-1 div.sk-parallel-item::before {content: \"\";position: absolute;border-left: 1px solid gray;box-sizing: border-box;top: 0;bottom: 0;left: 50%;z-index: -1;}#sk-container-id-1 div.sk-parallel-item {display: flex;flex-direction: column;z-index: 1;position: relative;background-color: white;}#sk-container-id-1 div.sk-parallel-item:first-child::after {align-self: flex-end;width: 50%;}#sk-container-id-1 div.sk-parallel-item:last-child::after {align-self: flex-start;width: 50%;}#sk-container-id-1 div.sk-parallel-item:only-child::after {width: 0;}#sk-container-id-1 div.sk-dashed-wrapped {border: 1px dashed gray;margin: 0 0.4em 0.5em 0.4em;box-sizing: border-box;padding-bottom: 0.4em;background-color: white;}#sk-container-id-1 div.sk-label label {font-family: monospace;font-weight: bold;display: inline-block;line-height: 1.2em;}#sk-container-id-1 div.sk-label-container {text-align: center;}#sk-container-id-1 div.sk-container {/* jupyter's `normalize.less` sets `[hidden] { display: none; }` but bootstrap.min.css set `[hidden] { display: none !important; }` so we also need the `!important` here to be able to override the default hidden behavior on the sphinx rendered scikit-learn.org. See: https://github.com/scikit-learn/scikit-learn/issues/21755 */display: inline-block !important;position: relative;}#sk-container-id-1 div.sk-text-repr-fallback {display: none;}</style><div id=\"sk-container-id-1\" class=\"sk-top-container\"><div class=\"sk-text-repr-fallback\"><pre>RandomForestClassifier(max_depth=200, min_samples_leaf=10, min_samples_split=10,\n                       n_estimators=20, n_jobs=-1, random_state=0)</pre><b>In a Jupyter environment, please rerun this cell to show the HTML representation or trust the notebook. <br />On GitHub, the HTML representation is unable to render, please try loading this page with nbviewer.org.</b></div><div class=\"sk-container\" hidden><div class=\"sk-item\"><div class=\"sk-estimator sk-toggleable\"><input class=\"sk-toggleable__control sk-hidden--visually\" id=\"sk-estimator-id-1\" type=\"checkbox\" checked><label for=\"sk-estimator-id-1\" class=\"sk-toggleable__label sk-toggleable__label-arrow\">RandomForestClassifier</label><div class=\"sk-toggleable__content\"><pre>RandomForestClassifier(max_depth=200, min_samples_leaf=10, min_samples_split=10,\n                       n_estimators=20, n_jobs=-1, random_state=0)</pre></div></div></div></div></div>"
     },
     "execution_count": 12,
     "metadata": {},
     "output_type": "execute_result"
    }
   ],
   "source": [
    "clf.fit(X_train, y_train)"
   ],
   "id": "e4d1ac1e5aa5ca6b"
  },
  {
   "cell_type": "code",
   "execution_count": 1,
   "metadata": {
    "ExecuteTime": {
     "end_time": "2023-11-06T18:08:04.552906800Z",
     "start_time": "2023-11-06T18:08:03.300386Z"
    }
   },
   "outputs": [
    {
     "ename": "NameError",
     "evalue": "name 'clf' is not defined",
     "output_type": "error",
     "traceback": [
      "\u001B[1;31m---------------------------------------------------------------------------\u001B[0m",
      "\u001B[1;31mNameError\u001B[0m                                 Traceback (most recent call last)",
      "Cell \u001B[1;32mIn[1], line 1\u001B[0m\n\u001B[1;32m----> 1\u001B[0m pred_X \u001B[38;5;241m=\u001B[39m \u001B[43mclf\u001B[49m\u001B[38;5;241m.\u001B[39mpredict(X_test)\n\u001B[0;32m      2\u001B[0m accuracy_score(y_test, pred_X)\n",
      "\u001B[1;31mNameError\u001B[0m: name 'clf' is not defined"
     ]
    }
   ],
   "source": [
    "pred_X = clf.predict(X_test)\n",
    "accuracy_score(y_test, pred_X)"
   ],
   "id": "c5d3ccc5106a0040"
  },
  {
   "cell_type": "code",
   "execution_count": 14,
   "id": "be40797c",
   "metadata": {
    "ExecuteTime": {
     "end_time": "2023-11-02T06:18:12.826530300Z",
     "start_time": "2023-11-02T06:18:12.794712100Z"
    }
   },
   "outputs": [],
   "source": []
  },
  {
   "cell_type": "code",
   "execution_count": null,
   "outputs": [],
   "source": [],
   "metadata": {
    "collapsed": false
   },
   "id": "f3eba3d055316d46"
  },
  {
   "cell_type": "code",
   "execution_count": 33,
   "outputs": [
    {
     "data": {
      "text/plain": "'hello'"
     },
     "execution_count": 33,
     "metadata": {},
     "output_type": "execute_result"
    }
   ],
   "source": [],
   "metadata": {
    "collapsed": false,
    "ExecuteTime": {
     "end_time": "2023-11-02T06:53:14.971465100Z",
     "start_time": "2023-11-02T06:53:14.937888200Z"
    }
   },
   "id": "141f811dbd45ed70"
  },
  {
   "cell_type": "code",
   "execution_count": null,
   "outputs": [],
   "source": [],
   "metadata": {
    "collapsed": false
   },
   "id": "6a8f53b885e3345b"
  }
 ],
 "metadata": {
  "kernelspec": {
   "display_name": "Python 3",
   "language": "python",
   "name": "python3"
  },
  "language_info": {
   "codemirror_mode": {
    "name": "ipython",
    "version": 3
   },
   "file_extension": ".py",
   "mimetype": "text/x-python",
   "name": "python",
   "nbconvert_exporter": "python",
   "pygments_lexer": "ipython3",
   "version": "3.10.8"
  }
 },
 "nbformat": 4,
 "nbformat_minor": 5
}
