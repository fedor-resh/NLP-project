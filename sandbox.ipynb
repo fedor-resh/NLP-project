{
 "cells": [
  {
   "cell_type": "code",
   "execution_count": 7,
   "id": "c5eec60912b2bf16",
   "metadata": {
    "ExecuteTime": {
     "end_time": "2023-10-25T13:51:34.857950100Z",
     "start_time": "2023-10-25T13:51:31.317950100Z"
    },
    "collapsed": false
   },
   "outputs": [],
   "source": [
    "from pymorphy2 import MorphAnalyzer\n",
    "from gensim.models import KeyedVectors\n",
    "from time import time\n",
    "import numpy as np\n",
    "import pandas as pd"
   ]
  },
  {
   "cell_type": "markdown",
   "id": "9429ea15cbaa2d07",
   "metadata": {
    "collapsed": false
   },
   "source": [
    "load model"
   ]
  },
  {
   "cell_type": "code",
   "execution_count": 2,
   "id": "423cd02512bcd45e",
   "metadata": {
    "ExecuteTime": {
     "end_time": "2023-10-25T13:52:52.332511500Z",
     "start_time": "2023-10-25T13:51:37.542630500Z"
    },
    "collapsed": false
   },
   "outputs": [],
   "source": [
    "model = KeyedVectors.load_word2vec_format('model.bin', binary=True)"
   ]
  },
  {
   "cell_type": "code",
   "execution_count": 5,
   "id": "39fd5db5d56d2641",
   "metadata": {
    "ExecuteTime": {
     "end_time": "2023-10-25T14:10:47.168395Z",
     "start_time": "2023-10-25T14:10:46.764399400Z"
    },
    "collapsed": false
   },
   "outputs": [
    {
     "name": "stdout",
     "output_type": "stream",
     "text": [
      "[-0.1267     -0.51209736 -0.16690832 -0.29150435  0.35674834  0.20734334\n",
      "  0.158235   -0.03373267 -0.23175633  0.3742043   0.17194633  0.48205498\n",
      " -0.09930066 -0.151058    0.031867    0.323783    0.36028     0.14745367\n",
      "  0.38986835  0.311489   -0.33128902  0.46635333  0.31798467 -0.24226\n",
      "  0.12861234  0.00921533  0.0169      0.13487367 -0.02352501 -0.26025465\n",
      "  0.134863   -0.09892233 -0.27922466  0.00384232 -0.08300433  0.00703567\n",
      " -0.00516333 -0.12743498  0.07026633 -0.42698732 -0.23669136  0.29773033\n",
      "  0.3714107  -0.09921966 -0.11576834  0.06041167  0.21021068 -0.00220767\n",
      "  0.15334734 -0.049027    0.195885   -0.09230334 -0.092242    0.23277535\n",
      "  0.15144134 -0.09071799  0.03817899  0.31755933 -0.00816533 -0.3383223\n",
      " -0.02359167  0.07261167 -0.05508    -0.11849733 -0.065199    0.13171966\n",
      " -0.01821033 -0.14975631  0.72882366 -0.05273466  0.5196673   0.07776701\n",
      " -0.00391134 -0.215815    0.08391434  0.027577   -0.35810634  0.067714\n",
      "  0.14507666 -0.24992865  0.003021   -0.045989    0.14582734 -0.12670167\n",
      "  0.32160434  0.18288068  0.12004033  0.098027    0.02066866 -0.12306166\n",
      " -0.06129166  0.53472203 -0.111938    0.10861433  0.13917801  0.08371333\n",
      " -0.01505733  0.20092833 -0.05773734  0.116928  ]\n"
     ]
    }
   ],
   "source": [
    "def get_average_vector(words):\n",
    "    words = [word for word in words if word in model]\n",
    "    return model[words].mean(axis=0)\n",
    "print(get_average_vector(['привет', 'как', 'дела']))"
   ]
  },
  {
   "cell_type": "code",
   "execution_count": 8,
   "id": "64fdcf81d13c13f9",
   "metadata": {
    "ExecuteTime": {
     "end_time": "2023-10-25T13:52:52.361521600Z",
     "start_time": "2023-10-25T13:52:52.335511100Z"
    },
    "collapsed": false
   },
   "outputs": [
    {
     "ename": "AttributeError",
     "evalue": "module 'sklearn' has no attribute 'metrics'",
     "output_type": "error",
     "traceback": [
      "\u001b[0;31m---------------------------------------------------------------------------\u001b[0m",
      "\u001b[0;31mAttributeError\u001b[0m                            Traceback (most recent call last)",
      "\u001b[1;32m/workspaces/NLP-project/sandbox.ipynb Ячейка 5\u001b[0m line \u001b[0;36m1\n\u001b[0;32m----> <a href='vscode-notebook-cell://codespaces%2Borange-potato-49g5wj7vgq9fjp5p/workspaces/NLP-project/sandbox.ipynb#W4sdnNjb2RlLXJlbW90ZQ%3D%3D?line=0'>1</a>\u001b[0m sklearn\u001b[39m.\u001b[39;49mmetrics\u001b[39m.\u001b[39mpairwise\u001b[39m.\u001b[39mcosine_similarity(\n\u001b[1;32m      <a href='vscode-notebook-cell://codespaces%2Borange-potato-49g5wj7vgq9fjp5p/workspaces/NLP-project/sandbox.ipynb#W4sdnNjb2RlLXJlbW90ZQ%3D%3D?line=1'>2</a>\u001b[0m     [get_average_vector([\u001b[39m'\u001b[39m\u001b[39mпривет\u001b[39m\u001b[39m'\u001b[39m, \u001b[39m'\u001b[39m\u001b[39mкак\u001b[39m\u001b[39m'\u001b[39m, \u001b[39m'\u001b[39m\u001b[39mдела\u001b[39m\u001b[39m'\u001b[39m])],\n\u001b[1;32m      <a href='vscode-notebook-cell://codespaces%2Borange-potato-49g5wj7vgq9fjp5p/workspaces/NLP-project/sandbox.ipynb#W4sdnNjb2RlLXJlbW90ZQ%3D%3D?line=2'>3</a>\u001b[0m     [get_average_vector([\u001b[39m'\u001b[39m\u001b[39mпривет\u001b[39m\u001b[39m'\u001b[39m, \u001b[39m'\u001b[39m\u001b[39mкак\u001b[39m\u001b[39m'\u001b[39m, \u001b[39m'\u001b[39m\u001b[39mдела\u001b[39m\u001b[39m'\u001b[39m])]\n\u001b[1;32m      <a href='vscode-notebook-cell://codespaces%2Borange-potato-49g5wj7vgq9fjp5p/workspaces/NLP-project/sandbox.ipynb#W4sdnNjb2RlLXJlbW90ZQ%3D%3D?line=3'>4</a>\u001b[0m )\n",
      "\u001b[0;31mAttributeError\u001b[0m: module 'sklearn' has no attribute 'metrics'"
     ]
    }
   ],
   "source": []
  },
  {
   "cell_type": "code",
   "execution_count": 67,
   "id": "10abc29debad477e",
   "metadata": {
    "ExecuteTime": {
     "end_time": "2023-10-15T19:13:56.087687100Z",
     "start_time": "2023-10-15T19:13:56.010688600Z"
    },
    "collapsed": false
   },
   "outputs": [],
   "source": []
  },
  {
   "cell_type": "code",
   "execution_count": 68,
   "id": "7f2cf423a7f900cf",
   "metadata": {
    "ExecuteTime": {
     "end_time": "2023-10-15T19:15:36.080225500Z",
     "start_time": "2023-10-15T19:15:35.850223100Z"
    },
    "collapsed": false
   },
   "outputs": [],
   "source": []
  }
 ],
 "metadata": {
  "kernelspec": {
   "display_name": "Python 3",
   "language": "python",
   "name": "python3"
  },
  "language_info": {
   "codemirror_mode": {
    "name": "ipython",
    "version": 3
   },
   "file_extension": ".py",
   "mimetype": "text/x-python",
   "name": "python",
   "nbconvert_exporter": "python",
   "pygments_lexer": "ipython3",
   "version": "3.10.8"
  }
 },
 "nbformat": 4,
 "nbformat_minor": 5
}
