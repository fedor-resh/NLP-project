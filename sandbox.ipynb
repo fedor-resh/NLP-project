{
 "cells": [
  {
   "cell_type": "code",
   "execution_count": 1,
   "outputs": [],
   "source": [
    "from pymorphy2 import MorphAnalyzer\n",
    "from gensim.models import KeyedVectors\n",
    "from time import time"
   ],
   "metadata": {
    "collapsed": false,
    "ExecuteTime": {
     "end_time": "2023-10-25T13:51:34.857950100Z",
     "start_time": "2023-10-25T13:51:31.317950100Z"
    }
   },
   "id": "c5eec60912b2bf16"
  },
  {
   "cell_type": "markdown",
   "source": [
    "load model"
   ],
   "metadata": {
    "collapsed": false
   },
   "id": "9429ea15cbaa2d07"
  },
  {
   "cell_type": "code",
   "execution_count": 2,
   "outputs": [],
   "source": [
    "model = KeyedVectors.load_word2vec_format('model.bin', binary=True)"
   ],
   "metadata": {
    "collapsed": false,
    "ExecuteTime": {
     "end_time": "2023-10-25T13:52:52.332511500Z",
     "start_time": "2023-10-25T13:51:37.542630500Z"
    }
   },
   "id": "423cd02512bcd45e"
  },
  {
   "cell_type": "code",
   "execution_count": 14,
   "outputs": [
    {
     "data": {
      "text/plain": "array([ 0.186657, -0.420626, -0.386944, -0.548532,  0.186538,  0.636317,\n        0.392946, -0.584875, -0.165989,  0.573437,  0.130643,  0.60596 ,\n        0.326633, -0.108652, -0.170902,  0.435358,  0.263262,  0.495933,\n        0.19508 ,  0.128614, -0.623388,  0.320611,  0.621667, -0.457649,\n        0.226157, -0.122258, -0.144017,  0.035045,  0.324787, -0.285484,\n        0.206588,  0.059566, -0.483561, -0.069537,  0.004873, -0.135657,\n       -0.065955, -0.239548,  0.179522, -0.587637, -0.664619,  0.263721,\n        0.732957, -0.170461, -0.257774,  0.155128,  0.158986,  0.378057,\n        0.627694,  0.013361,  0.109184, -0.239998, -0.038359,  0.611666,\n        0.191853, -0.460701, -0.040327,  0.349307,  0.140312, -0.356857,\n       -0.244783,  0.222694,  0.184806,  0.15756 , -0.028692,  0.127364,\n        0.063367, -0.579793,  0.677463, -0.415249,  0.518948,  0.171728,\n       -0.366261, -0.208603,  0.161733, -0.2198  , -0.075581,  0.31504 ,\n       -0.014144,  0.232594, -0.042721, -0.143574,  0.184381,  0.191585,\n        0.147992,  0.198961,  0.086624,  0.044973,  0.140225,  0.069416,\n       -0.24554 ,  0.371512, -0.135932,  0.138736, -0.409511,  0.047646,\n       -0.154205,  0.347631, -0.24578 ,  0.130429], dtype=float32)"
     },
     "execution_count": 14,
     "metadata": {},
     "output_type": "execute_result"
    }
   ],
   "source": [
    "model['привет']\n"
   ],
   "metadata": {
    "collapsed": false,
    "ExecuteTime": {
     "end_time": "2023-10-25T14:10:47.168395Z",
     "start_time": "2023-10-25T14:10:46.764399400Z"
    }
   },
   "id": "39fd5db5d56d2641"
  },
  {
   "cell_type": "code",
   "execution_count": 2,
   "outputs": [],
   "source": [],
   "metadata": {
    "collapsed": false,
    "ExecuteTime": {
     "end_time": "2023-10-25T13:52:52.361521600Z",
     "start_time": "2023-10-25T13:52:52.335511100Z"
    }
   },
   "id": "64fdcf81d13c13f9"
  },
  {
   "cell_type": "code",
   "execution_count": 67,
   "outputs": [],
   "source": [],
   "metadata": {
    "collapsed": false,
    "ExecuteTime": {
     "end_time": "2023-10-15T19:13:56.087687100Z",
     "start_time": "2023-10-15T19:13:56.010688600Z"
    }
   },
   "id": "10abc29debad477e"
  },
  {
   "cell_type": "code",
   "execution_count": 68,
   "outputs": [],
   "source": [],
   "metadata": {
    "collapsed": false,
    "ExecuteTime": {
     "end_time": "2023-10-15T19:15:36.080225500Z",
     "start_time": "2023-10-15T19:15:35.850223100Z"
    }
   },
   "id": "7f2cf423a7f900cf"
  }
 ],
 "metadata": {
  "kernelspec": {
   "display_name": "Python 3",
   "language": "python",
   "name": "python3"
  },
  "language_info": {
   "codemirror_mode": {
    "name": "ipython",
    "version": 2
   },
   "file_extension": ".py",
   "mimetype": "text/x-python",
   "name": "python",
   "nbconvert_exporter": "python",
   "pygments_lexer": "ipython2",
   "version": "2.7.6"
  }
 },
 "nbformat": 4,
 "nbformat_minor": 5
}
