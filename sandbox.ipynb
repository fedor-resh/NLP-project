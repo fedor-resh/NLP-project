{
 "cells": [
  {
   "cell_type": "code",
   "execution_count": 1,
   "id": "c5eec60912b2bf16",
   "metadata": {
    "ExecuteTime": {
     "end_time": "2023-10-25T13:51:34.857950100Z",
     "start_time": "2023-10-25T13:51:31.317950100Z"
    },
    "collapsed": false
   },
   "outputs": [],
   "source": [
    "from pymorphy2 import MorphAnalyzer\n",
    "from gensim.models import KeyedVectors\n",
    "from time import time\n",
    "import numpy as np\n",
    "import pandas as pd"
   ]
  },
  {
   "cell_type": "markdown",
   "id": "9429ea15cbaa2d07",
   "metadata": {
    "collapsed": false
   },
   "source": [
    "load model"
   ]
  },
  {
   "cell_type": "code",
   "execution_count": 2,
   "id": "423cd02512bcd45e",
   "metadata": {
    "ExecuteTime": {
     "end_time": "2023-10-25T13:52:52.332511500Z",
     "start_time": "2023-10-25T13:51:37.542630500Z"
    },
    "collapsed": false
   },
   "outputs": [],
   "source": [
    "model = KeyedVectors.load_word2vec_format('word_to_vec.bin', binary=True)"
   ]
  },
  {
   "cell_type": "code",
   "execution_count": 3,
   "id": "39fd5db5d56d2641",
   "metadata": {
    "ExecuteTime": {
     "end_time": "2023-10-25T14:10:47.168395Z",
     "start_time": "2023-10-25T14:10:46.764399400Z"
    },
    "collapsed": false
   },
   "outputs": [
    {
     "name": "stdout",
     "output_type": "stream",
     "text": [
      "[ 0.01319534 -0.44012567 -0.24828333 -0.30982634  0.44310102  0.18418433\n",
      "  0.12236699 -0.06977067 -0.22141068  0.33174     0.04571233  0.4523003\n",
      "  0.05751466 -0.25541267 -0.10298267  0.32320166  0.28154334  0.05418434\n",
      "  0.45345068  0.20138998 -0.389215    0.384002    0.34564066 -0.25499168\n",
      "  0.16727601  0.03322067  0.00858967  0.066601   -0.05029468 -0.19079167\n",
      "  0.04519533 -0.027845   -0.257506    0.01388633 -0.04997567 -0.03241967\n",
      "  0.014428   -0.11890599  0.029228   -0.34692034 -0.26247802  0.298645\n",
      "  0.3107127  -0.14327334 -0.15045999  0.129627    0.20942901 -0.05834166\n",
      "  0.17391133 -0.16441034  0.12307634 -0.14922099 -0.061433    0.22274001\n",
      "  0.13244967  0.02664267  0.07971966  0.3478087  -0.11845666 -0.29305732\n",
      " -0.074766   -0.02340234 -0.02104733 -0.14968766  0.07986266  0.24631031\n",
      "  0.020461   -0.23431699  0.6417493  -0.041198    0.48819467  0.04603934\n",
      "  0.02268433 -0.2872503  -0.005793   -0.10669366 -0.32312167  0.13104033\n",
      "  0.01454767 -0.22922999  0.085271   -0.13496734  0.05935466 -0.23421733\n",
      "  0.337556    0.19458866  0.10922467  0.05219467  0.166103   -0.028745\n",
      "  0.04827834  0.45796633 -0.12064033  0.10168166  0.145835   -0.02456266\n",
      " -0.06269667  0.28109932 -0.06120467  0.147698  ]\n"
     ]
    }
   ],
   "source": [
    "morph = MorphAnalyzer()\n",
    "def handle_word(word):\n",
    "    word = word.lower().strip('(.,!?:;\\'\"«»—-–)')\n",
    "    p = morph.parse(word)[0]\n",
    "    return p.normal_form\n",
    "def get_average_vector(words):\n",
    "    vectors = []\n",
    "    for word in words:\n",
    "        parsed = handle_word(word)\n",
    "        if parsed in model:\n",
    "            vectors.append(model[parsed])\n",
    "        else:\n",
    "            vectors.append(np.zeros(100))\n",
    "    return np.mean(vectors, axis=0)\n",
    "\n",
    "\n",
    "print(get_average_vector(['привет', 'как', 'дела']))"
   ]
  },
  {
   "cell_type": "markdown",
   "metadata": {},
   "source": [
    "#### check model "
   ]
  },
  {
   "cell_type": "code",
   "execution_count": 4,
   "metadata": {},
   "outputs": [
    {
     "ename": "NameError",
     "evalue": "name 'data' is not defined",
     "output_type": "error",
     "traceback": [
      "\u001b[0;31m---------------------------------------------------------------------------\u001b[0m",
      "\u001b[0;31mNameError\u001b[0m                                 Traceback (most recent call last)",
      "\u001b[1;32m/workspaces/NLP-project/sandbox.ipynb Ячейка 6\u001b[0m line \u001b[0;36m1\n\u001b[0;32m----> <a href='vscode-notebook-cell://codespaces%2Borange-potato-49g5wj7vgq9fjp5p/workspaces/NLP-project/sandbox.ipynb#W5sdnNjb2RlLXJlbW90ZQ%3D%3D?line=0'>1</a>\u001b[0m all_words \u001b[39m=\u001b[39m \u001b[39mlist\u001b[39m(\u001b[39mset\u001b[39m([word \u001b[39mfor\u001b[39;00m text \u001b[39min\u001b[39;00m data[\u001b[39m'\u001b[39m\u001b[39muu_usl_name\u001b[39m\u001b[39m'\u001b[39m]\u001b[39m.\u001b[39mvalues[:\u001b[39m10000\u001b[39m] \u001b[39mfor\u001b[39;00m word \u001b[39min\u001b[39;00m text\u001b[39m.\u001b[39msplit()]))\n\u001b[1;32m      <a href='vscode-notebook-cell://codespaces%2Borange-potato-49g5wj7vgq9fjp5p/workspaces/NLP-project/sandbox.ipynb#W5sdnNjb2RlLXJlbW90ZQ%3D%3D?line=1'>2</a>\u001b[0m morph \u001b[39m=\u001b[39m MorphAnalyzer()\n\u001b[1;32m      <a href='vscode-notebook-cell://codespaces%2Borange-potato-49g5wj7vgq9fjp5p/workspaces/NLP-project/sandbox.ipynb#W5sdnNjb2RlLXJlbW90ZQ%3D%3D?line=2'>3</a>\u001b[0m \u001b[39mprint\u001b[39m(\u001b[39mlen\u001b[39m([handle_word(word) \u001b[39mfor\u001b[39;00m word \u001b[39min\u001b[39;00m all_words \u001b[39mif\u001b[39;00m handle_word(word) \u001b[39min\u001b[39;00m model]))\n",
      "\u001b[0;31mNameError\u001b[0m: name 'data' is not defined"
     ]
    }
   ],
   "source": [
    "# all_words = list(set([word for text in data['uu_usl_name'].values[:10000] for word in text.split()]))\n",
    "# print(len([handle_word(word) for word in all_words if handle_word(word) in model]))"
   ]
  },
  {
   "cell_type": "code",
   "execution_count": 5,
   "id": "64fdcf81d13c13f9",
   "metadata": {
    "ExecuteTime": {
     "end_time": "2023-10-25T13:52:52.361521600Z",
     "start_time": "2023-10-25T13:52:52.335511100Z"
    },
    "collapsed": false
   },
   "outputs": [
    {
     "data": {
      "text/html": [
       "<div>\n",
       "<style scoped>\n",
       "    .dataframe tbody tr th:only-of-type {\n",
       "        vertical-align: middle;\n",
       "    }\n",
       "\n",
       "    .dataframe tbody tr th {\n",
       "        vertical-align: top;\n",
       "    }\n",
       "\n",
       "    .dataframe thead th {\n",
       "        text-align: right;\n",
       "    }\n",
       "</style>\n",
       "<table border=\"1\" class=\"dataframe\">\n",
       "  <thead>\n",
       "    <tr style=\"text-align: right;\">\n",
       "      <th></th>\n",
       "      <th>uu_usl_name</th>\n",
       "      <th>CLASS_ID</th>\n",
       "      <th>SERVICE_CLASS_CONFIRMED</th>\n",
       "      <th>CNT_DIST_USL_BY_CLASS</th>\n",
       "      <th>CNT_NUM_USL</th>\n",
       "    </tr>\n",
       "  </thead>\n",
       "  <tbody>\n",
       "    <tr>\n",
       "      <th>0</th>\n",
       "      <td>АМБУЛАТОРНАЯ ПОМОЩЬ</td>\n",
       "      <td>1000</td>\n",
       "      <td>NaN</td>\n",
       "      <td>12614</td>\n",
       "      <td>812414</td>\n",
       "    </tr>\n",
       "    <tr>\n",
       "      <th>1</th>\n",
       "      <td>АМБУЛАТОРНАЯ ПОМОЩЬ</td>\n",
       "      <td>1292</td>\n",
       "      <td>NaN</td>\n",
       "      <td>777</td>\n",
       "      <td>812414</td>\n",
       "    </tr>\n",
       "    <tr>\n",
       "      <th>2</th>\n",
       "      <td>КОНСУЛЬТАТИВНО-ДИАГНОСТИЧЕСКАЯ ПОМОЩЬ</td>\n",
       "      <td>1000</td>\n",
       "      <td>NaN</td>\n",
       "      <td>12614</td>\n",
       "      <td>740580</td>\n",
       "    </tr>\n",
       "    <tr>\n",
       "      <th>3</th>\n",
       "      <td>Сбербанк Премьер</td>\n",
       "      <td>3200</td>\n",
       "      <td>1.0</td>\n",
       "      <td>3974</td>\n",
       "      <td>489254</td>\n",
       "    </tr>\n",
       "    <tr>\n",
       "      <th>4</th>\n",
       "      <td>Сбербанк Премьер</td>\n",
       "      <td>8350</td>\n",
       "      <td>1.0</td>\n",
       "      <td>104</td>\n",
       "      <td>489254</td>\n",
       "    </tr>\n",
       "  </tbody>\n",
       "</table>\n",
       "</div>"
      ],
      "text/plain": [
       "                             uu_usl_name  CLASS_ID  SERVICE_CLASS_CONFIRMED  \\\n",
       "0                    АМБУЛАТОРНАЯ ПОМОЩЬ      1000                      NaN   \n",
       "1                    АМБУЛАТОРНАЯ ПОМОЩЬ      1292                      NaN   \n",
       "2  КОНСУЛЬТАТИВНО-ДИАГНОСТИЧЕСКАЯ ПОМОЩЬ      1000                      NaN   \n",
       "3                       Сбербанк Премьер      3200                      1.0   \n",
       "4                       Сбербанк Премьер      8350                      1.0   \n",
       "\n",
       "   CNT_DIST_USL_BY_CLASS  CNT_NUM_USL  \n",
       "0                  12614       812414  \n",
       "1                    777       812414  \n",
       "2                  12614       740580  \n",
       "3                   3974       489254  \n",
       "4                    104       489254  "
      ]
     },
     "execution_count": 5,
     "metadata": {},
     "output_type": "execute_result"
    }
   ],
   "source": [
    "data = pd.read_csv('dataset.csv', sep=',')\n",
    "data.head()"
   ]
  },
  {
   "cell_type": "code",
   "execution_count": 6,
   "id": "10abc29debad477e",
   "metadata": {
    "ExecuteTime": {
     "end_time": "2023-10-15T19:13:56.087687100Z",
     "start_time": "2023-10-15T19:13:56.010688600Z"
    },
    "collapsed": false
   },
   "outputs": [],
   "source": [
    "#clear data\n",
    "columns_to_delete = ['SERVICE_CLASS_CONFIRMED', 'CNT_DIST_USL_BY_CLASS', 'CNT_NUM_USL']\n",
    "data = data.drop(columns_to_delete, axis=1)\n",
    "data = data[data.CLASS_ID != 9000]"
   ]
  },
  {
   "cell_type": "code",
   "execution_count": 8,
   "id": "4bb485a0",
   "metadata": {},
   "outputs": [],
   "source": [
    "pre_X = [get_average_vector(text.split()) for text in data['uu_usl_name'].values]"
   ]
  },
  {
   "cell_type": "code",
   "execution_count": 7,
   "id": "6716aea9",
   "metadata": {},
   "outputs": [
    {
     "ename": "NameError",
     "evalue": "name 'pre_X' is not defined",
     "output_type": "error",
     "traceback": [
      "\u001b[0;31m---------------------------------------------------------------------------\u001b[0m",
      "\u001b[0;31mNameError\u001b[0m                                 Traceback (most recent call last)",
      "\u001b[1;32m/workspaces/NLP-project/sandbox.ipynb Ячейка 10\u001b[0m line \u001b[0;36m1\n\u001b[0;32m----> <a href='vscode-notebook-cell://codespaces%2Borange-potato-49g5wj7vgq9fjp5p/workspaces/NLP-project/sandbox.ipynb#X12sdnNjb2RlLXJlbW90ZQ%3D%3D?line=0'>1</a>\u001b[0m X \u001b[39m=\u001b[39m pd\u001b[39m.\u001b[39mDataFrame(pre_X, dtype\u001b[39m=\u001b[39m\u001b[39mfloat\u001b[39m)\u001b[39m.\u001b[39mfillna(\u001b[39m0\u001b[39m)\n\u001b[1;32m      <a href='vscode-notebook-cell://codespaces%2Borange-potato-49g5wj7vgq9fjp5p/workspaces/NLP-project/sandbox.ipynb#X12sdnNjb2RlLXJlbW90ZQ%3D%3D?line=1'>2</a>\u001b[0m X\u001b[39m.\u001b[39mhead()\n",
      "\u001b[0;31mNameError\u001b[0m: name 'pre_X' is not defined"
     ]
    }
   ],
   "source": [
    "\n",
    "X = pd.DataFrame(pre_X, dtype=float).fillna(0)\n",
    "X.head()"
   ]
  },
  {
   "cell_type": "code",
   "execution_count": null,
   "metadata": {},
   "outputs": [],
   "source": [
    "y = data['CLASS_ID'].values"
   ]
  },
  {
   "cell_type": "code",
   "execution_count": null,
   "metadata": {},
   "outputs": [],
   "source": [
    "from sklearn.model_selection import train_test_split\n",
    "from sklearn.metrics import accuracy_score\n",
    "from sklearn.ensemble import RandomForestClassifier\n",
    "\n",
    "X_train, X_test, y_train, y_test = train_test_split(X, y, test_size=0.2)\n",
    "\n",
    "clf = RandomForestClassifier(\n",
    "    n_estimators=1,\n",
    "    max_depth=10,\n",
    "    random_state=0,\n",
    "    n_jobs=-1\n",
    ")\n",
    "\n"
   ]
  },
  {
   "cell_type": "code",
   "execution_count": null,
   "metadata": {},
   "outputs": [
    {
     "data": {
      "text/html": [
       "<style>#sk-container-id-1 {color: black;}#sk-container-id-1 pre{padding: 0;}#sk-container-id-1 div.sk-toggleable {background-color: white;}#sk-container-id-1 label.sk-toggleable__label {cursor: pointer;display: block;width: 100%;margin-bottom: 0;padding: 0.3em;box-sizing: border-box;text-align: center;}#sk-container-id-1 label.sk-toggleable__label-arrow:before {content: \"▸\";float: left;margin-right: 0.25em;color: #696969;}#sk-container-id-1 label.sk-toggleable__label-arrow:hover:before {color: black;}#sk-container-id-1 div.sk-estimator:hover label.sk-toggleable__label-arrow:before {color: black;}#sk-container-id-1 div.sk-toggleable__content {max-height: 0;max-width: 0;overflow: hidden;text-align: left;background-color: #f0f8ff;}#sk-container-id-1 div.sk-toggleable__content pre {margin: 0.2em;color: black;border-radius: 0.25em;background-color: #f0f8ff;}#sk-container-id-1 input.sk-toggleable__control:checked~div.sk-toggleable__content {max-height: 200px;max-width: 100%;overflow: auto;}#sk-container-id-1 input.sk-toggleable__control:checked~label.sk-toggleable__label-arrow:before {content: \"▾\";}#sk-container-id-1 div.sk-estimator input.sk-toggleable__control:checked~label.sk-toggleable__label {background-color: #d4ebff;}#sk-container-id-1 div.sk-label input.sk-toggleable__control:checked~label.sk-toggleable__label {background-color: #d4ebff;}#sk-container-id-1 input.sk-hidden--visually {border: 0;clip: rect(1px 1px 1px 1px);clip: rect(1px, 1px, 1px, 1px);height: 1px;margin: -1px;overflow: hidden;padding: 0;position: absolute;width: 1px;}#sk-container-id-1 div.sk-estimator {font-family: monospace;background-color: #f0f8ff;border: 1px dotted black;border-radius: 0.25em;box-sizing: border-box;margin-bottom: 0.5em;}#sk-container-id-1 div.sk-estimator:hover {background-color: #d4ebff;}#sk-container-id-1 div.sk-parallel-item::after {content: \"\";width: 100%;border-bottom: 1px solid gray;flex-grow: 1;}#sk-container-id-1 div.sk-label:hover label.sk-toggleable__label {background-color: #d4ebff;}#sk-container-id-1 div.sk-serial::before {content: \"\";position: absolute;border-left: 1px solid gray;box-sizing: border-box;top: 0;bottom: 0;left: 50%;z-index: 0;}#sk-container-id-1 div.sk-serial {display: flex;flex-direction: column;align-items: center;background-color: white;padding-right: 0.2em;padding-left: 0.2em;position: relative;}#sk-container-id-1 div.sk-item {position: relative;z-index: 1;}#sk-container-id-1 div.sk-parallel {display: flex;align-items: stretch;justify-content: center;background-color: white;position: relative;}#sk-container-id-1 div.sk-item::before, #sk-container-id-1 div.sk-parallel-item::before {content: \"\";position: absolute;border-left: 1px solid gray;box-sizing: border-box;top: 0;bottom: 0;left: 50%;z-index: -1;}#sk-container-id-1 div.sk-parallel-item {display: flex;flex-direction: column;z-index: 1;position: relative;background-color: white;}#sk-container-id-1 div.sk-parallel-item:first-child::after {align-self: flex-end;width: 50%;}#sk-container-id-1 div.sk-parallel-item:last-child::after {align-self: flex-start;width: 50%;}#sk-container-id-1 div.sk-parallel-item:only-child::after {width: 0;}#sk-container-id-1 div.sk-dashed-wrapped {border: 1px dashed gray;margin: 0 0.4em 0.5em 0.4em;box-sizing: border-box;padding-bottom: 0.4em;background-color: white;}#sk-container-id-1 div.sk-label label {font-family: monospace;font-weight: bold;display: inline-block;line-height: 1.2em;}#sk-container-id-1 div.sk-label-container {text-align: center;}#sk-container-id-1 div.sk-container {/* jupyter's `normalize.less` sets `[hidden] { display: none; }` but bootstrap.min.css set `[hidden] { display: none !important; }` so we also need the `!important` here to be able to override the default hidden behavior on the sphinx rendered scikit-learn.org. See: https://github.com/scikit-learn/scikit-learn/issues/21755 */display: inline-block !important;position: relative;}#sk-container-id-1 div.sk-text-repr-fallback {display: none;}</style><div id=\"sk-container-id-1\" class=\"sk-top-container\"><div class=\"sk-text-repr-fallback\"><pre>RandomForestClassifier(max_depth=10, n_estimators=1, n_jobs=-1, random_state=0)</pre><b>In a Jupyter environment, please rerun this cell to show the HTML representation or trust the notebook. <br />On GitHub, the HTML representation is unable to render, please try loading this page with nbviewer.org.</b></div><div class=\"sk-container\" hidden><div class=\"sk-item\"><div class=\"sk-estimator sk-toggleable\"><input class=\"sk-toggleable__control sk-hidden--visually\" id=\"sk-estimator-id-1\" type=\"checkbox\" checked><label for=\"sk-estimator-id-1\" class=\"sk-toggleable__label sk-toggleable__label-arrow\">RandomForestClassifier</label><div class=\"sk-toggleable__content\"><pre>RandomForestClassifier(max_depth=10, n_estimators=1, n_jobs=-1, random_state=0)</pre></div></div></div></div></div>"
      ],
      "text/plain": [
       "RandomForestClassifier(max_depth=10, n_estimators=1, n_jobs=-1, random_state=0)"
      ]
     },
     "execution_count": 14,
     "metadata": {},
     "output_type": "execute_result"
    }
   ],
   "source": [
    "clf.fit(X_train, y_train)"
   ]
  },
  {
   "cell_type": "code",
   "execution_count": null,
   "metadata": {},
   "outputs": [],
   "source": [
    "pred_X = clf.predict(X_test)\n",
    "accuracy_score(y_test, pred_X)"
   ]
  },
  {
   "cell_type": "code",
   "execution_count": null,
   "id": "be40797c",
   "metadata": {},
   "outputs": [],
   "source": []
  }
 ],
 "metadata": {
  "kernelspec": {
   "display_name": "Python 3",
   "language": "python",
   "name": "python3"
  },
  "language_info": {
   "codemirror_mode": {
    "name": "ipython",
    "version": 3
   },
   "file_extension": ".py",
   "mimetype": "text/x-python",
   "name": "python",
   "nbconvert_exporter": "python",
   "pygments_lexer": "ipython3",
   "version": "3.10.8"
  }
 },
 "nbformat": 4,
 "nbformat_minor": 5
}
