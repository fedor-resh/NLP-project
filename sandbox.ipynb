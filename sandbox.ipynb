{
 "cells": [
  {
   "cell_type": "code",
   "execution_count": 2,
   "outputs": [],
   "source": [
    "from pymorphy2 import MorphAnalyzer\n",
    "from gensim.models import KeyedVectors\n",
    "from time import time"
   ],
   "metadata": {
    "collapsed": false,
    "ExecuteTime": {
     "end_time": "2023-11-01T15:25:27.001222Z",
     "start_time": "2023-11-01T15:25:23.218555700Z"
    }
   },
   "id": "c5eec60912b2bf16"
  },
  {
   "cell_type": "code",
   "execution_count": null,
   "outputs": [],
   "source": [
    "model = KeyedVectors.load_word2vec_format('model.bin', binary=True)"
   ],
   "metadata": {
    "collapsed": false,
    "is_executing": true,
    "ExecuteTime": {
     "start_time": "2023-11-01T15:25:27.005221Z"
    }
   },
   "id": "423cd02512bcd45e"
  },
  {
   "cell_type": "code",
   "execution_count": null,
   "outputs": [],
   "source": [
    "def get_vector_from_text(text):\n",
    "    morph = MorphAnalyzer()\n",
    "    words = text.split()\n",
    "    vector = []\n",
    "    for word in words:\n",
    "        p = morph.parse(word)[0]\n",
    "        print(p.normal_form)\n",
    "        if p.normal_form in model:\n",
    "            vector.append(model[p.normal_form])\n",
    "    return vector\n",
    "\n",
    "def average_vector(vector):\n",
    "    return sum(vector) / len(vector)\n",
    "print(average_vector(get_vector_from_text('привет как дела')))"
   ],
   "metadata": {
    "collapsed": false,
    "is_executing": true
   },
   "id": "39fd5db5d56d2641"
  },
  {
   "cell_type": "code",
   "execution_count": 2,
   "outputs": [],
   "source": [
    "import pandas as pd\n",
    "import "
   ],
   "metadata": {
    "collapsed": false,
    "ExecuteTime": {
     "end_time": "2023-10-25T13:52:52.361521600Z",
     "start_time": "2023-10-25T13:52:52.335511100Z"
    }
   },
   "id": "64fdcf81d13c13f9"
  },
  {
   "cell_type": "code",
   "execution_count": 67,
   "outputs": [],
   "source": [],
   "metadata": {
    "collapsed": false,
    "ExecuteTime": {
     "end_time": "2023-10-15T19:13:56.087687100Z",
     "start_time": "2023-10-15T19:13:56.010688600Z"
    }
   },
   "id": "10abc29debad477e"
  },
  {
   "cell_type": "code",
   "execution_count": 68,
   "outputs": [],
   "source": [],
   "metadata": {
    "collapsed": false,
    "ExecuteTime": {
     "end_time": "2023-10-15T19:15:36.080225500Z",
     "start_time": "2023-10-15T19:15:35.850223100Z"
    }
   },
   "id": "7f2cf423a7f900cf"
  }
 ],
 "metadata": {
  "kernelspec": {
   "display_name": "Python 3",
   "language": "python",
   "name": "python3"
  },
  "language_info": {
   "codemirror_mode": {
    "name": "ipython",
    "version": 2
   },
   "file_extension": ".py",
   "mimetype": "text/x-python",
   "name": "python",
   "nbconvert_exporter": "python",
   "pygments_lexer": "ipython2",
   "version": "2.7.6"
  }
 },
 "nbformat": 4,
 "nbformat_minor": 5
}
